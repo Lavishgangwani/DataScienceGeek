{
 "cells": [
  {
   "cell_type": "code",
   "execution_count": 1,
   "id": "c5eaa80f-fc2a-467e-8889-73d5d5a504e4",
   "metadata": {},
   "outputs": [
    {
     "name": "stdout",
     "output_type": "stream",
     "text": [
      "G:\\GeekDS\\venv\\python.exe\n",
      "G:\\GeekDS\\venv\n"
     ]
    }
   ],
   "source": [
    "import sys\n",
    "print(sys.executable)\n",
    "print(sys.prefix)"
   ]
  },
  {
   "cell_type": "code",
   "execution_count": 62,
   "id": "0bfd454b-07e7-4e94-9ec3-789369699560",
   "metadata": {},
   "outputs": [],
   "source": [
    "#import libraries\n",
    "import numpy as np\n",
    "import pandas as pd\n",
    "import matplotlib.pyplot as plt\n",
    "import seaborn as sns\n",
    "%matplotlib inline\n",
    "\n",
    "#model training & Evaluation\n",
    "from sklearn.preprocessing import StandardScaler\n",
    "from sklearn.linear_model import LinearRegression , Ridge , Lasso , ElasticNet\n",
    "\n",
    "#for cross validation\n",
    "from sklearn.linear_model import RidgeCV , LassoCV , ElasticNetCV\n",
    "from sklearn.model_selection import train_test_split\n",
    "from sklearn.metrics import mean_absolute_error , mean_squared_error , r2_score"
   ]
  },
  {
   "cell_type": "code",
   "execution_count": 3,
   "id": "88374e6b-f15b-4b0d-bf40-e8e23b4916dc",
   "metadata": {},
   "outputs": [],
   "source": [
    "df = pd.read_csv('Algerian_cleaned.csv')"
   ]
  },
  {
   "cell_type": "code",
   "execution_count": 4,
   "id": "52408dde-fc22-42ce-8f5d-d3cbdfdf7ab5",
   "metadata": {},
   "outputs": [
    {
     "data": {
      "text/html": [
       "<div>\n",
       "<style scoped>\n",
       "    .dataframe tbody tr th:only-of-type {\n",
       "        vertical-align: middle;\n",
       "    }\n",
       "\n",
       "    .dataframe tbody tr th {\n",
       "        vertical-align: top;\n",
       "    }\n",
       "\n",
       "    .dataframe thead th {\n",
       "        text-align: right;\n",
       "    }\n",
       "</style>\n",
       "<table border=\"1\" class=\"dataframe\">\n",
       "  <thead>\n",
       "    <tr style=\"text-align: right;\">\n",
       "      <th></th>\n",
       "      <th>day</th>\n",
       "      <th>month</th>\n",
       "      <th>year</th>\n",
       "      <th>Temperature</th>\n",
       "      <th>RH</th>\n",
       "      <th>Ws</th>\n",
       "      <th>Rain</th>\n",
       "      <th>FFMC</th>\n",
       "      <th>DMC</th>\n",
       "      <th>DC</th>\n",
       "      <th>ISI</th>\n",
       "      <th>BUI</th>\n",
       "      <th>FWI</th>\n",
       "      <th>Classes</th>\n",
       "      <th>Region</th>\n",
       "    </tr>\n",
       "  </thead>\n",
       "  <tbody>\n",
       "    <tr>\n",
       "      <th>0</th>\n",
       "      <td>1</td>\n",
       "      <td>6</td>\n",
       "      <td>2012</td>\n",
       "      <td>29</td>\n",
       "      <td>57</td>\n",
       "      <td>18</td>\n",
       "      <td>0.0</td>\n",
       "      <td>65.7</td>\n",
       "      <td>3.4</td>\n",
       "      <td>7.6</td>\n",
       "      <td>1.3</td>\n",
       "      <td>3.4</td>\n",
       "      <td>0.5</td>\n",
       "      <td>not fire</td>\n",
       "      <td>0</td>\n",
       "    </tr>\n",
       "    <tr>\n",
       "      <th>1</th>\n",
       "      <td>2</td>\n",
       "      <td>6</td>\n",
       "      <td>2012</td>\n",
       "      <td>29</td>\n",
       "      <td>61</td>\n",
       "      <td>13</td>\n",
       "      <td>1.3</td>\n",
       "      <td>64.4</td>\n",
       "      <td>4.1</td>\n",
       "      <td>7.6</td>\n",
       "      <td>1.0</td>\n",
       "      <td>3.9</td>\n",
       "      <td>0.4</td>\n",
       "      <td>not fire</td>\n",
       "      <td>0</td>\n",
       "    </tr>\n",
       "    <tr>\n",
       "      <th>2</th>\n",
       "      <td>3</td>\n",
       "      <td>6</td>\n",
       "      <td>2012</td>\n",
       "      <td>26</td>\n",
       "      <td>82</td>\n",
       "      <td>22</td>\n",
       "      <td>13.1</td>\n",
       "      <td>47.1</td>\n",
       "      <td>2.5</td>\n",
       "      <td>7.1</td>\n",
       "      <td>0.3</td>\n",
       "      <td>2.7</td>\n",
       "      <td>0.1</td>\n",
       "      <td>not fire</td>\n",
       "      <td>0</td>\n",
       "    </tr>\n",
       "    <tr>\n",
       "      <th>3</th>\n",
       "      <td>4</td>\n",
       "      <td>6</td>\n",
       "      <td>2012</td>\n",
       "      <td>25</td>\n",
       "      <td>89</td>\n",
       "      <td>13</td>\n",
       "      <td>2.5</td>\n",
       "      <td>28.6</td>\n",
       "      <td>1.3</td>\n",
       "      <td>6.9</td>\n",
       "      <td>0.0</td>\n",
       "      <td>1.7</td>\n",
       "      <td>0.0</td>\n",
       "      <td>not fire</td>\n",
       "      <td>0</td>\n",
       "    </tr>\n",
       "    <tr>\n",
       "      <th>4</th>\n",
       "      <td>5</td>\n",
       "      <td>6</td>\n",
       "      <td>2012</td>\n",
       "      <td>27</td>\n",
       "      <td>77</td>\n",
       "      <td>16</td>\n",
       "      <td>0.0</td>\n",
       "      <td>64.8</td>\n",
       "      <td>3.0</td>\n",
       "      <td>14.2</td>\n",
       "      <td>1.2</td>\n",
       "      <td>3.9</td>\n",
       "      <td>0.5</td>\n",
       "      <td>not fire</td>\n",
       "      <td>0</td>\n",
       "    </tr>\n",
       "  </tbody>\n",
       "</table>\n",
       "</div>"
      ],
      "text/plain": [
       "   day  month  year  Temperature  RH  Ws  Rain  FFMC  DMC    DC  ISI  BUI  \\\n",
       "0    1      6  2012           29  57  18   0.0  65.7  3.4   7.6  1.3  3.4   \n",
       "1    2      6  2012           29  61  13   1.3  64.4  4.1   7.6  1.0  3.9   \n",
       "2    3      6  2012           26  82  22  13.1  47.1  2.5   7.1  0.3  2.7   \n",
       "3    4      6  2012           25  89  13   2.5  28.6  1.3   6.9  0.0  1.7   \n",
       "4    5      6  2012           27  77  16   0.0  64.8  3.0  14.2  1.2  3.9   \n",
       "\n",
       "   FWI      Classes  Region  \n",
       "0  0.5  not fire          0  \n",
       "1  0.4  not fire          0  \n",
       "2  0.1  not fire          0  \n",
       "3  0.0  not fire          0  \n",
       "4  0.5  not fire          0  "
      ]
     },
     "execution_count": 4,
     "metadata": {},
     "output_type": "execute_result"
    }
   ],
   "source": [
    "df.head()"
   ]
  },
  {
   "cell_type": "code",
   "execution_count": 5,
   "id": "22b54d41-dfc3-4dc9-be59-3e3e3e510c8f",
   "metadata": {},
   "outputs": [
    {
     "data": {
      "text/plain": [
       "(243, 15)"
      ]
     },
     "execution_count": 5,
     "metadata": {},
     "output_type": "execute_result"
    }
   ],
   "source": [
    "df.shape"
   ]
  },
  {
   "cell_type": "code",
   "execution_count": 6,
   "id": "bef68812-dec1-4f13-8e05-32236609f2e2",
   "metadata": {},
   "outputs": [
    {
     "data": {
      "text/plain": [
       "Index(['day', 'month', 'year', 'Temperature', 'RH', 'Ws', 'Rain', 'FFMC',\n",
       "       'DMC', 'DC', 'ISI', 'BUI', 'FWI', 'Classes', 'Region'],\n",
       "      dtype='object')"
      ]
     },
     "execution_count": 6,
     "metadata": {},
     "output_type": "execute_result"
    }
   ],
   "source": [
    "df.columns"
   ]
  },
  {
   "cell_type": "code",
   "execution_count": 7,
   "id": "7e0a18d1-5dbd-4f15-b43f-6811af8a0b03",
   "metadata": {},
   "outputs": [],
   "source": [
    "df.drop(columns=['day','month','year'] , axis=1 , inplace=True)"
   ]
  },
  {
   "cell_type": "code",
   "execution_count": 8,
   "id": "b0801f56-63d8-40f3-8fa2-d4feb829f9e7",
   "metadata": {},
   "outputs": [
    {
     "data": {
      "text/html": [
       "<div>\n",
       "<style scoped>\n",
       "    .dataframe tbody tr th:only-of-type {\n",
       "        vertical-align: middle;\n",
       "    }\n",
       "\n",
       "    .dataframe tbody tr th {\n",
       "        vertical-align: top;\n",
       "    }\n",
       "\n",
       "    .dataframe thead th {\n",
       "        text-align: right;\n",
       "    }\n",
       "</style>\n",
       "<table border=\"1\" class=\"dataframe\">\n",
       "  <thead>\n",
       "    <tr style=\"text-align: right;\">\n",
       "      <th></th>\n",
       "      <th>Temperature</th>\n",
       "      <th>RH</th>\n",
       "      <th>Ws</th>\n",
       "      <th>Rain</th>\n",
       "      <th>FFMC</th>\n",
       "      <th>DMC</th>\n",
       "      <th>DC</th>\n",
       "      <th>ISI</th>\n",
       "      <th>BUI</th>\n",
       "      <th>FWI</th>\n",
       "      <th>Classes</th>\n",
       "      <th>Region</th>\n",
       "    </tr>\n",
       "  </thead>\n",
       "  <tbody>\n",
       "    <tr>\n",
       "      <th>0</th>\n",
       "      <td>29</td>\n",
       "      <td>57</td>\n",
       "      <td>18</td>\n",
       "      <td>0.0</td>\n",
       "      <td>65.7</td>\n",
       "      <td>3.4</td>\n",
       "      <td>7.6</td>\n",
       "      <td>1.3</td>\n",
       "      <td>3.4</td>\n",
       "      <td>0.5</td>\n",
       "      <td>not fire</td>\n",
       "      <td>0</td>\n",
       "    </tr>\n",
       "    <tr>\n",
       "      <th>1</th>\n",
       "      <td>29</td>\n",
       "      <td>61</td>\n",
       "      <td>13</td>\n",
       "      <td>1.3</td>\n",
       "      <td>64.4</td>\n",
       "      <td>4.1</td>\n",
       "      <td>7.6</td>\n",
       "      <td>1.0</td>\n",
       "      <td>3.9</td>\n",
       "      <td>0.4</td>\n",
       "      <td>not fire</td>\n",
       "      <td>0</td>\n",
       "    </tr>\n",
       "    <tr>\n",
       "      <th>2</th>\n",
       "      <td>26</td>\n",
       "      <td>82</td>\n",
       "      <td>22</td>\n",
       "      <td>13.1</td>\n",
       "      <td>47.1</td>\n",
       "      <td>2.5</td>\n",
       "      <td>7.1</td>\n",
       "      <td>0.3</td>\n",
       "      <td>2.7</td>\n",
       "      <td>0.1</td>\n",
       "      <td>not fire</td>\n",
       "      <td>0</td>\n",
       "    </tr>\n",
       "    <tr>\n",
       "      <th>3</th>\n",
       "      <td>25</td>\n",
       "      <td>89</td>\n",
       "      <td>13</td>\n",
       "      <td>2.5</td>\n",
       "      <td>28.6</td>\n",
       "      <td>1.3</td>\n",
       "      <td>6.9</td>\n",
       "      <td>0.0</td>\n",
       "      <td>1.7</td>\n",
       "      <td>0.0</td>\n",
       "      <td>not fire</td>\n",
       "      <td>0</td>\n",
       "    </tr>\n",
       "    <tr>\n",
       "      <th>4</th>\n",
       "      <td>27</td>\n",
       "      <td>77</td>\n",
       "      <td>16</td>\n",
       "      <td>0.0</td>\n",
       "      <td>64.8</td>\n",
       "      <td>3.0</td>\n",
       "      <td>14.2</td>\n",
       "      <td>1.2</td>\n",
       "      <td>3.9</td>\n",
       "      <td>0.5</td>\n",
       "      <td>not fire</td>\n",
       "      <td>0</td>\n",
       "    </tr>\n",
       "  </tbody>\n",
       "</table>\n",
       "</div>"
      ],
      "text/plain": [
       "   Temperature  RH  Ws  Rain  FFMC  DMC    DC  ISI  BUI  FWI      Classes  \\\n",
       "0           29  57  18   0.0  65.7  3.4   7.6  1.3  3.4  0.5  not fire      \n",
       "1           29  61  13   1.3  64.4  4.1   7.6  1.0  3.9  0.4  not fire      \n",
       "2           26  82  22  13.1  47.1  2.5   7.1  0.3  2.7  0.1  not fire      \n",
       "3           25  89  13   2.5  28.6  1.3   6.9  0.0  1.7  0.0  not fire      \n",
       "4           27  77  16   0.0  64.8  3.0  14.2  1.2  3.9  0.5  not fire      \n",
       "\n",
       "   Region  \n",
       "0       0  \n",
       "1       0  \n",
       "2       0  \n",
       "3       0  \n",
       "4       0  "
      ]
     },
     "execution_count": 8,
     "metadata": {},
     "output_type": "execute_result"
    }
   ],
   "source": [
    "df.head()"
   ]
  },
  {
   "cell_type": "code",
   "execution_count": 9,
   "id": "9145d55c-d9d6-4f4b-926c-faf3965f6fa3",
   "metadata": {},
   "outputs": [
    {
     "data": {
      "text/plain": [
       "Classes\n",
       "fire             131\n",
       "not fire         101\n",
       "fire               4\n",
       "fire               2\n",
       "not fire           2\n",
       "not fire           1\n",
       "not fire           1\n",
       "not fire           1\n",
       "Name: count, dtype: int64"
      ]
     },
     "execution_count": 9,
     "metadata": {},
     "output_type": "execute_result"
    }
   ],
   "source": [
    "#encoding classes \n",
    "df['Classes'].value_counts()"
   ]
  },
  {
   "cell_type": "code",
   "execution_count": 10,
   "id": "08b54457-3430-4281-ae77-d46f18dec13c",
   "metadata": {},
   "outputs": [],
   "source": [
    "df.Classes = np.where(df.Classes.str.contains('not fire'),0,1)"
   ]
  },
  {
   "cell_type": "code",
   "execution_count": 11,
   "id": "ac31d9f3-b7d5-495f-9a01-68c2483b8b53",
   "metadata": {},
   "outputs": [
    {
     "data": {
      "text/plain": [
       "Classes\n",
       "1    137\n",
       "0    106\n",
       "Name: count, dtype: int64"
      ]
     },
     "execution_count": 11,
     "metadata": {},
     "output_type": "execute_result"
    }
   ],
   "source": [
    "#now checking\n",
    "df.Classes.value_counts()"
   ]
  },
  {
   "cell_type": "code",
   "execution_count": 12,
   "id": "61c172bd-d3e8-4c1c-8116-62dcfa81319e",
   "metadata": {},
   "outputs": [],
   "source": [
    "#splitting the data \n",
    "X = df.drop('FWI' ,axis=1)\n",
    "y = df.FWI"
   ]
  },
  {
   "cell_type": "code",
   "execution_count": 13,
   "id": "e35b0dac-ebc9-4453-95fe-eb649da13566",
   "metadata": {},
   "outputs": [
    {
     "data": {
      "text/html": [
       "<div>\n",
       "<style scoped>\n",
       "    .dataframe tbody tr th:only-of-type {\n",
       "        vertical-align: middle;\n",
       "    }\n",
       "\n",
       "    .dataframe tbody tr th {\n",
       "        vertical-align: top;\n",
       "    }\n",
       "\n",
       "    .dataframe thead th {\n",
       "        text-align: right;\n",
       "    }\n",
       "</style>\n",
       "<table border=\"1\" class=\"dataframe\">\n",
       "  <thead>\n",
       "    <tr style=\"text-align: right;\">\n",
       "      <th></th>\n",
       "      <th>Temperature</th>\n",
       "      <th>RH</th>\n",
       "      <th>Ws</th>\n",
       "      <th>Rain</th>\n",
       "      <th>FFMC</th>\n",
       "      <th>DMC</th>\n",
       "      <th>DC</th>\n",
       "      <th>ISI</th>\n",
       "      <th>BUI</th>\n",
       "      <th>Classes</th>\n",
       "      <th>Region</th>\n",
       "    </tr>\n",
       "  </thead>\n",
       "  <tbody>\n",
       "    <tr>\n",
       "      <th>0</th>\n",
       "      <td>29</td>\n",
       "      <td>57</td>\n",
       "      <td>18</td>\n",
       "      <td>0.0</td>\n",
       "      <td>65.7</td>\n",
       "      <td>3.4</td>\n",
       "      <td>7.6</td>\n",
       "      <td>1.3</td>\n",
       "      <td>3.4</td>\n",
       "      <td>0</td>\n",
       "      <td>0</td>\n",
       "    </tr>\n",
       "    <tr>\n",
       "      <th>1</th>\n",
       "      <td>29</td>\n",
       "      <td>61</td>\n",
       "      <td>13</td>\n",
       "      <td>1.3</td>\n",
       "      <td>64.4</td>\n",
       "      <td>4.1</td>\n",
       "      <td>7.6</td>\n",
       "      <td>1.0</td>\n",
       "      <td>3.9</td>\n",
       "      <td>0</td>\n",
       "      <td>0</td>\n",
       "    </tr>\n",
       "    <tr>\n",
       "      <th>2</th>\n",
       "      <td>26</td>\n",
       "      <td>82</td>\n",
       "      <td>22</td>\n",
       "      <td>13.1</td>\n",
       "      <td>47.1</td>\n",
       "      <td>2.5</td>\n",
       "      <td>7.1</td>\n",
       "      <td>0.3</td>\n",
       "      <td>2.7</td>\n",
       "      <td>0</td>\n",
       "      <td>0</td>\n",
       "    </tr>\n",
       "    <tr>\n",
       "      <th>3</th>\n",
       "      <td>25</td>\n",
       "      <td>89</td>\n",
       "      <td>13</td>\n",
       "      <td>2.5</td>\n",
       "      <td>28.6</td>\n",
       "      <td>1.3</td>\n",
       "      <td>6.9</td>\n",
       "      <td>0.0</td>\n",
       "      <td>1.7</td>\n",
       "      <td>0</td>\n",
       "      <td>0</td>\n",
       "    </tr>\n",
       "    <tr>\n",
       "      <th>4</th>\n",
       "      <td>27</td>\n",
       "      <td>77</td>\n",
       "      <td>16</td>\n",
       "      <td>0.0</td>\n",
       "      <td>64.8</td>\n",
       "      <td>3.0</td>\n",
       "      <td>14.2</td>\n",
       "      <td>1.2</td>\n",
       "      <td>3.9</td>\n",
       "      <td>0</td>\n",
       "      <td>0</td>\n",
       "    </tr>\n",
       "  </tbody>\n",
       "</table>\n",
       "</div>"
      ],
      "text/plain": [
       "   Temperature  RH  Ws  Rain  FFMC  DMC    DC  ISI  BUI  Classes  Region\n",
       "0           29  57  18   0.0  65.7  3.4   7.6  1.3  3.4        0       0\n",
       "1           29  61  13   1.3  64.4  4.1   7.6  1.0  3.9        0       0\n",
       "2           26  82  22  13.1  47.1  2.5   7.1  0.3  2.7        0       0\n",
       "3           25  89  13   2.5  28.6  1.3   6.9  0.0  1.7        0       0\n",
       "4           27  77  16   0.0  64.8  3.0  14.2  1.2  3.9        0       0"
      ]
     },
     "execution_count": 13,
     "metadata": {},
     "output_type": "execute_result"
    }
   ],
   "source": [
    "X.head()"
   ]
  },
  {
   "cell_type": "code",
   "execution_count": 14,
   "id": "3c2ae5d6-e577-4c48-bbc6-1b6872847fbb",
   "metadata": {},
   "outputs": [
    {
     "data": {
      "text/plain": [
       "0      0.5\n",
       "1      0.4\n",
       "2      0.1\n",
       "3      0.0\n",
       "4      0.5\n",
       "      ... \n",
       "238    6.5\n",
       "239    0.0\n",
       "240    0.2\n",
       "241    0.7\n",
       "242    0.5\n",
       "Name: FWI, Length: 243, dtype: float64"
      ]
     },
     "execution_count": 14,
     "metadata": {},
     "output_type": "execute_result"
    }
   ],
   "source": [
    "y"
   ]
  },
  {
   "cell_type": "code",
   "execution_count": 15,
   "id": "e599f1b9-603d-42fb-9ddc-ed8cc3e7c036",
   "metadata": {},
   "outputs": [],
   "source": [
    "X_train , X_test , y_train , y_test = train_test_split(X,y,test_size=0.25,random_state=22)"
   ]
  },
  {
   "cell_type": "code",
   "execution_count": 17,
   "id": "65cbc671-8a2f-422e-beb6-8ff3ce3a82a2",
   "metadata": {},
   "outputs": [
    {
     "data": {
      "text/plain": [
       "((182, 11), (61, 11))"
      ]
     },
     "execution_count": 17,
     "metadata": {},
     "output_type": "execute_result"
    }
   ],
   "source": [
    "X_train.shape , X_test.shape"
   ]
  },
  {
   "cell_type": "code",
   "execution_count": 25,
   "id": "6320ef4c-eb49-404d-8cdd-a9de5734389a",
   "metadata": {},
   "outputs": [
    {
     "data": {
      "image/png": "[encoded data removed]",
      "text/plain": [
       "<Figure size 1000x800 with 2 Axes>"
      ]
     },
     "metadata": {},
     "output_type": "display_data"
    }
   ],
   "source": [
    "#feature Selection based on correlation\n",
    "\n",
    "# Set the style\n",
    "plt.style.use('seaborn-v0_8-colorblind')\n",
    "\n",
    "# Create a heatmap\n",
    "plt.figure(figsize=(10, 8))\n",
    "sns.heatmap(X_train.corr(), annot=True, cmap='coolwarm', linewidths=0.5)\n",
    "plt.title('Correlation Matrix')\n",
    "plt.show()"
   ]
  },
  {
   "cell_type": "code",
   "execution_count": 28,
   "id": "55147194-c943-4b9f-a05c-b92db213abd4",
   "metadata": {},
   "outputs": [],
   "source": [
    "#based on correlation we check Multicolinearity between the independent feature\n",
    "def correlation(dataset , threshold):\n",
    "    col_corr = set()\n",
    "    corr_matrix = dataset.corr()\n",
    "    for i in range(len(corr_matrix.columns)):\n",
    "        for j in range(i):\n",
    "            if abs(corr_matrix.iloc[i , j]) > threshold :\n",
    "                colname = corr_matrix.columns[i]\n",
    "                col_corr.add(colname)\n",
    "    return col_corr"
   ]
  },
  {
   "cell_type": "code",
   "execution_count": 32,
   "id": "4753230f-ca76-4741-977f-02f3292221b0",
   "metadata": {},
   "outputs": [
    {
     "data": {
      "text/plain": [
       "{'BUI', 'DC'}"
      ]
     },
     "execution_count": 32,
     "metadata": {},
     "output_type": "execute_result"
    }
   ],
   "source": [
    "#threshold sets on - Domain Expertise or Knowledge\n",
    "corr_features = correlation(X_train,0.85)\n",
    "corr_features"
   ]
  },
  {
   "cell_type": "code",
   "execution_count": 33,
   "id": "c2b3b53e-7940-469e-a598-f34c7d364906",
   "metadata": {},
   "outputs": [
    {
     "data": {
      "text/plain": [
       "((182, 9), (61, 9))"
      ]
     },
     "execution_count": 33,
     "metadata": {},
     "output_type": "execute_result"
    }
   ],
   "source": [
    "#dropping the features which have correlation more than 0.85\n",
    "\n",
    "X_train.drop(corr_features,axis=1,inplace=True)\n",
    "X_test.drop(corr_features,axis=1,inplace=True)\n",
    "\n",
    "X_train.shape , X_test.shape"
   ]
  },
  {
   "cell_type": "markdown",
   "id": "ee59842c-9ef2-461a-9917-141b4193c7e3",
   "metadata": {},
   "source": [
    "## feature Scalling"
   ]
  },
  {
   "cell_type": "code",
   "execution_count": 34,
   "id": "9e566c76-7c39-4abe-b354-78416559dc39",
   "metadata": {},
   "outputs": [],
   "source": [
    "sc = StandardScaler()\n",
    "X_train_scaled = sc.fit_transform(X_train)\n",
    "X_test_scaled = sc.transform(X_test)"
   ]
  },
  {
   "cell_type": "code",
   "execution_count": 35,
   "id": "da146f2e-2354-4392-a2a7-d3ba92b5f8a6",
   "metadata": {},
   "outputs": [
    {
     "data": {
      "text/plain": [
       "array([[ 1.07875463,  0.55524664, -0.16518193, ...,  0.15863888,\n",
       "         0.88561489,  0.98907071],\n",
       "       [-0.26232011, -0.05311055, -0.16518193, ..., -0.18288941,\n",
       "         0.88561489,  0.98907071],\n",
       "       [ 0.54232473, -1.40501541, -0.16518193, ..., -0.60323191,\n",
       "        -1.12915898,  0.98907071],\n",
       "       ...,\n",
       "       [-0.53053506,  1.16360382,  1.2331023 , ..., -0.89221738,\n",
       "        -1.12915898, -1.01105006],\n",
       "       [-0.26232011, -1.40501541,  1.93224441, ...,  2.3391656 ,\n",
       "         0.88561489,  0.98907071],\n",
       "       [-0.26232011, -0.59387249, -1.56346615, ..., -0.52441769,\n",
       "        -1.12915898, -1.01105006]])"
      ]
     },
     "execution_count": 35,
     "metadata": {},
     "output_type": "execute_result"
    }
   ],
   "source": [
    "X_train_scaled"
   ]
  },
  {
   "cell_type": "code",
   "execution_count": 36,
   "id": "25a79446-9e6c-44f5-81a1-4d4fd9e1564d",
   "metadata": {},
   "outputs": [
    {
     "data": {
      "text/plain": [
       "array([[ 1.34696958e+00, -1.74299162e+00, -5.14752984e-01,\n",
       "        -3.95361153e-01,  1.19401042e+00,  1.81584018e+00,\n",
       "         3.02222216e+00,  8.85614886e-01,  9.89070710e-01],\n",
       "       [-2.62320115e-01, -5.26277248e-01, -1.56346615e+00,\n",
       "        -3.95361153e-01,  7.30997236e-01,  1.90775291e-01,\n",
       "         2.37453095e-01,  8.85614886e-01, -1.01105006e+00],\n",
       "       [ 8.10539680e-01, -1.26982492e+00,  5.33960185e-01,\n",
       "        -2.96926502e-01,  5.74285080e-01, -3.62081837e-01,\n",
       "         2.37453095e-01,  8.85614886e-01,  9.89070710e-01],\n",
       "       [ 5.42324731e-01, -2.55896277e-01,  1.84389128e-01,\n",
       "        -3.95361153e-01,  7.52367076e-01,  4.42073985e-01,\n",
       "         7.62881222e-01,  8.85614886e-01,  9.89070710e-01],\n",
       "       [ 2.74109783e-01,  1.49675181e-01, -1.65181928e-01,\n",
       "        -3.46143828e-01,  2.75107328e-01, -1.61042881e-01,\n",
       "        -4.45603469e-01,  8.85614886e-01, -1.01105006e+00],\n",
       "       [-7.98750012e-01,  1.77196101e+00, -8.64324040e-01,\n",
       "        -5.08398747e-02, -2.95173843e+00, -1.04896494e+00,\n",
       "        -1.18120285e+00, -1.12915898e+00, -1.01105006e+00],\n",
       "       [ 1.88339947e+00, -2.01337259e+00,  5.33960185e-01,\n",
       "        -3.95361153e-01,  1.15127074e+00,  2.41035030e-01,\n",
       "         3.33747904e+00,  8.85614886e-01,  9.89070710e-01],\n",
       "       [-5.30535063e-01, -2.55896277e-01,  1.23310230e+00,\n",
       "        -3.95361153e-01,  8.23599874e-01,  1.13733371e+00,\n",
       "         1.39339497e+00,  8.85614886e-01,  9.89070710e-01],\n",
       "       [ 5.89483403e-03,  8.93222852e-01,  1.58267335e+00,\n",
       "        -5.08398747e-02, -1.02845288e+00, -9.73575327e-01,\n",
       "        -8.39674563e-01, -1.12915898e+00, -1.01105006e+00],\n",
       "       [ 1.07875463e+00, -6.61467734e-01,  1.23310230e+00,\n",
       "        -3.95361153e-01,  8.30723154e-01,  2.41035030e-01,\n",
       "         1.44593779e+00,  8.85614886e-01, -1.01105006e+00],\n",
       "       [ 8.10539680e-01,  8.20799378e-02,  8.83531241e-01,\n",
       "        -2.96926502e-01,  1.75381411e-01, -3.78835083e-01,\n",
       "        -4.45603469e-01, -1.12915898e+00, -1.01105006e+00],\n",
       "       [ 2.74109783e-01,  1.44846949e-02,  5.33960185e-01,\n",
       "         1.46029427e-01, -3.37494735e-01,  5.59346710e-01,\n",
       "        -7.60860344e-01, -1.12915898e+00,  9.89070710e-01],\n",
       "       [ 1.07875463e+00, -2.28375356e+00,  8.83531241e-01,\n",
       "        -3.95361153e-01,  1.16551730e+00,  2.12577524e+00,\n",
       "         3.67900732e+00,  8.85614886e-01,  9.89070710e-01],\n",
       "       [ 5.42324731e-01, -1.54020589e+00,  8.83531241e-01,\n",
       "        -3.95361153e-01,  1.03729827e+00,  3.52467130e+00,\n",
       "         2.57560826e+00,  8.85614886e-01,  9.89070710e-01],\n",
       "       [ 5.89483403e-03, -1.06703919e+00, -8.64324040e-01,\n",
       "        -2.47709177e-01,  1.68258131e-01,  3.49931131e-01,\n",
       "        -6.03231906e-01, -1.12915898e+00, -1.01105006e+00],\n",
       "       [ 5.42324731e-01, -4.58682005e-01,  5.33960185e-01,\n",
       "        -3.46143828e-01,  5.10175562e-01, -3.78835083e-01,\n",
       "         5.35532513e-02,  8.85614886e-01,  9.89070710e-01],\n",
       "       [ 8.10539680e-01, -1.88301034e-01, -1.65181928e-01,\n",
       "        -3.95361153e-01,  8.09353314e-01,  2.48597003e+00,\n",
       "         9.73052472e-01,  8.85614886e-01, -1.01105006e+00],\n",
       "       [-1.87160981e+00,  1.02841334e+00, -1.65181928e-01,\n",
       "         1.47489722e+00, -2.48872524e+00, -1.09084805e+00,\n",
       "        -1.15493144e+00, -1.12915898e+00, -1.01105006e+00],\n",
       "       [-1.33517991e+00,  1.43398480e+00,  1.93224441e+00,\n",
       "         1.95246753e-01, -1.96160253e+00, -6.30133778e-01,\n",
       "        -1.04984581e+00, -1.12915898e+00, -1.01105006e+00],\n",
       "       [ 1.34696958e+00, -4.58682005e-01, -1.56346615e+00,\n",
       "        -3.95361153e-01,  7.02504117e-01, -2.53185736e-01,\n",
       "         1.84910283e-01,  8.85614886e-01,  9.89070710e-01],\n",
       "       [ 2.15161442e+00, -1.94577735e+00, -5.14752984e-01,\n",
       "        -3.95361153e-01,  1.12277763e+00, -2.86692229e-01,\n",
       "         2.44425123e+00,  8.85614886e-01,  9.89070710e-01],\n",
       "       [ 5.42324731e-01, -6.61467734e-01,  8.83531241e-01,\n",
       "        -3.95361153e-01,  8.16476594e-01,  6.17983072e-01,\n",
       "         1.23576654e+00,  8.85614886e-01, -1.01105006e+00],\n",
       "       [-2.62320115e-01,  8.25627609e-01, -8.64324040e-01,\n",
       "        -3.46143828e-01, -1.73659300e-01, -5.29614300e-01,\n",
       "        -7.87131751e-01, -1.12915898e+00, -1.01105006e+00],\n",
       "       [ 5.89483403e-03, -5.26277248e-01, -5.14752984e-01,\n",
       "        -3.95361153e-01,  6.17024759e-01, -4.96107807e-01,\n",
       "         1.32367470e-01,  8.85614886e-01,  9.89070710e-01],\n",
       "       [-7.98750012e-01,  4.87651395e-01, -5.14752984e-01,\n",
       "        -3.95361153e-01,  3.74833246e-01, -4.03964953e-01,\n",
       "        -3.40517843e-01,  8.85614886e-01, -1.01105006e+00],\n",
       "       [ 1.07875463e+00, -5.93872491e-01,  8.83531241e-01,\n",
       "        -3.95361153e-01,  8.44969713e-01,  4.83957101e-01,\n",
       "         1.36712357e+00,  8.85614886e-01, -1.01105006e+00],\n",
       "       [ 8.10539680e-01,  1.44846949e-02, -8.64324040e-01,\n",
       "        -3.95361153e-01,  8.09353314e-01,  6.26359695e-01,\n",
       "         6.84067003e-01,  8.85614886e-01, -1.01105006e+00],\n",
       "       [ 1.07875463e+00, -9.99443948e-01, -8.64324040e-01,\n",
       "        -3.95361153e-01,  9.09079231e-01,  6.68242811e-01,\n",
       "         1.10440950e+00,  8.85614886e-01, -1.01105006e+00],\n",
       "       [ 5.89483403e-03,  2.84865666e-01, -5.14752984e-01,\n",
       "         1.81941850e+00, -9.21603679e-01, -8.22796110e-01,\n",
       "        -9.18488782e-01, -1.12915898e+00,  9.89070710e-01],\n",
       "       [ 8.10539680e-01, -1.94577735e+00,  5.33960185e-01,\n",
       "        -3.95361153e-01,  1.04442155e+00,  7.85515535e-01,\n",
       "         2.44425123e+00,  8.85614886e-01,  9.89070710e-01],\n",
       "       [-1.60339486e+00,  1.29879431e+00,  2.28181547e+00,\n",
       "         6.05210849e+00, -2.16817765e+00, -9.81951950e-01,\n",
       "        -1.10238863e+00, -1.12915898e+00, -1.01105006e+00],\n",
       "       [-5.30535063e-01,  1.02841334e+00, -5.14752984e-01,\n",
       "        -3.95361153e-01,  2.46614209e-01, -6.63640270e-01,\n",
       "        -4.98146281e-01,  8.85614886e-01, -1.01105006e+00],\n",
       "       [ 1.07875463e+00, -5.26277248e-01, -8.64324040e-01,\n",
       "        -2.47709177e-01,  3.46340127e-01,  1.15385683e-01,\n",
       "        -2.09160812e-01,  8.85614886e-01, -1.01105006e+00],\n",
       "       [ 5.42324731e-01, -1.20222968e+00,  5.33960185e-01,\n",
       "        -3.95361153e-01,  9.23325791e-01,  3.16424638e-01,\n",
       "         1.68238044e+00,  8.85614886e-01,  9.89070710e-01],\n",
       "       [ 2.74109783e-01,  1.29879431e+00,  1.93224441e+00,\n",
       "        -3.95361153e-01,  5.24422122e-01,  2.74564535e+00,\n",
       "        -2.52609676e-02,  8.85614886e-01, -1.01105006e+00],\n",
       "       [ 1.07875463e+00, -5.26277248e-01, -1.65181928e-01,\n",
       "        -3.95361153e-01,  8.23599874e-01,  5.59346710e-01,\n",
       "         9.20509660e-01,  8.85614886e-01,  9.89070710e-01],\n",
       "       [-7.98750012e-01,  3.52460909e-01,  1.23310230e+00,\n",
       "         9.68121019e-02, -1.25639783e+00, -9.81951950e-01,\n",
       "        -8.92217376e-01, -1.12915898e+00, -1.01105006e+00],\n",
       "       [-7.98750012e-01, -3.91086762e-01, -5.14752984e-01,\n",
       "        -3.95361153e-01,  8.37846433e-01, -1.44289635e-01,\n",
       "         8.67966847e-01,  8.85614886e-01, -1.01105006e+00],\n",
       "       [-5.30535063e-01, -3.23491519e-01, -1.21389510e+00,\n",
       "         1.62254919e+00, -8.14754482e-01, -8.56302603e-01,\n",
       "        -9.18488782e-01, -1.12915898e+00,  9.89070710e-01],\n",
       "       [-1.06696496e+00,  4.87651395e-01, -1.65181928e-01,\n",
       "        -3.95361153e-01,  1.68258131e-01, -3.53935341e-02,\n",
       "        -5.50689094e-01, -1.12915898e+00,  9.89070710e-01],\n",
       "       [ 5.42324731e-01, -1.40501541e+00,  5.33960185e-01,\n",
       "        -3.46143828e-01,  7.66613635e-01,  7.85515535e-01,\n",
       "         3.81036435e+00,  8.85614886e-01,  9.89070710e-01],\n",
       "       [ 8.10539680e-01,  4.87651395e-01,  5.33960185e-01,\n",
       "        -1.62254919e-03, -3.44618015e-01,  9.19541505e-01,\n",
       "        -7.34588938e-01, -1.12915898e+00, -1.01105006e+00],\n",
       "       [ 1.07875463e+00, -1.20222968e+00, -5.14752984e-01,\n",
       "        -3.95361153e-01,  8.99020534e-02, -7.89289618e-01,\n",
       "        -6.55774719e-01, -1.12915898e+00, -1.01105006e+00],\n",
       "       [ 5.89483403e-03, -5.93872491e-01, -1.56346615e+00,\n",
       "        -1.49274526e-01, -2.73385217e-01, -5.29614300e-01,\n",
       "        -8.65945969e-01, -1.12915898e+00, -1.01105006e+00],\n",
       "       [ 8.10539680e-01,  1.44846949e-02, -1.65181928e-01,\n",
       "        -3.95361153e-01,  6.74010998e-01,  4.00190870e-01,\n",
       "         3.68810127e-01,  8.85614886e-01, -1.01105006e+00],\n",
       "       [ 2.74109783e-01, -9.99443948e-01,  1.84389128e-01,\n",
       "        -3.95361153e-01,  7.16750677e-01, -5.29614300e-01,\n",
       "         6.05252784e-01,  8.85614886e-01,  9.89070710e-01],\n",
       "       [ 2.74109783e-01, -3.91086762e-01,  1.84389128e-01,\n",
       "        -3.95361153e-01,  7.09627397e-01,  1.23762306e-01,\n",
       "         5.78981378e-01,  8.85614886e-01,  9.89070710e-01],\n",
       "       [-7.98750012e-01,  6.90437124e-01,  5.33960185e-01,\n",
       "        -3.46143828e-01, -6.50919047e-01, -1.03221169e+00,\n",
       "        -8.13403157e-01, -1.12915898e+00, -1.01105006e+00],\n",
       "       [ 5.42324731e-01,  1.44846949e-02, -8.64324040e-01,\n",
       "         1.03194129e+00, -5.58316409e-01, -5.88250662e-01,\n",
       "        -8.65945969e-01, -1.12915898e+00,  9.89070710e-01],\n",
       "       [ 2.74109783e-01,  8.93222852e-01, -5.14752984e-01,\n",
       "        -3.95361153e-01,  2.53737489e-01, -5.12861054e-01,\n",
       "        -4.98146281e-01, -1.12915898e+00, -1.01105006e+00],\n",
       "       [ 8.10539680e-01, -3.23491519e-01, -1.91303721e+00,\n",
       "        -2.96926502e-01,  5.42856544e-02, -2.86692229e-01,\n",
       "        -7.60860344e-01, -1.12915898e+00,  9.89070710e-01],\n",
       "       [-2.62320115e-01, -5.26277248e-01,  1.84389128e-01,\n",
       "        -3.46143828e-01,  1.68258131e-01, -8.14419487e-01,\n",
       "        -5.24417687e-01, -1.12915898e+00, -1.01105006e+00],\n",
       "       [ 5.42324731e-01, -3.23491519e-01, -8.64324040e-01,\n",
       "        -2.96926502e-01,  1.39765012e-01,  3.75061000e-01,\n",
       "        -6.29503313e-01, -1.12915898e+00,  9.89070710e-01],\n",
       "       [ 2.74109783e-01,  4.87651395e-01,  5.33960185e-01,\n",
       "        -3.95361153e-01,  5.60038521e-01,  3.58307754e-01,\n",
       "         1.84910283e-01,  8.85614886e-01, -1.01105006e+00],\n",
       "       [-7.98750012e-01,  1.56917528e+00,  1.84389128e-01,\n",
       "        -3.95361153e-01, -2.82351939e+00, -1.11597792e+00,\n",
       "        -1.15493144e+00, -1.12915898e+00,  9.89070710e-01],\n",
       "       [-1.87160981e+00,  1.77196101e+00, -8.64324040e-01,\n",
       "         8.35071985e-01, -3.48598441e+00, -1.08247143e+00,\n",
       "        -1.18120285e+00, -1.12915898e+00, -1.01105006e+00],\n",
       "       [-5.30535063e-01,  8.20799378e-02, -5.14752984e-01,\n",
       "        -3.95361153e-01,  1.32641732e-01, -7.55783125e-01,\n",
       "        -6.03231906e-01, -1.12915898e+00,  9.89070710e-01],\n",
       "       [-1.06696496e+00,  2.84865666e-01,  1.23310230e+00,\n",
       "        -3.95361153e-01, -1.52289460e-01, -9.48445457e-01,\n",
       "        -6.55774719e-01, -1.12915898e+00,  9.89070710e-01],\n",
       "       [ 2.74109783e-01, -1.74299162e+00,  1.84389128e-01,\n",
       "        -3.95361153e-01,  1.04442155e+00,  3.94350246e+00,\n",
       "         2.26035138e+00,  8.85614886e-01,  9.89070710e-01],\n",
       "       [ 8.10539680e-01, -1.13463443e+00, -8.64324040e-01,\n",
       "        -2.47709177e-01,  4.53189324e-01,  2.24281784e-01,\n",
       "        -2.61703624e-01,  8.85614886e-01,  9.89070710e-01],\n",
       "       [-2.62320115e-01,  1.02841334e+00,  8.83531241e-01,\n",
       "        -3.95361153e-01,  5.88531640e-01,  2.62837263e+00,\n",
       "         5.35532513e-02,  8.85614886e-01, -1.01105006e+00]])"
      ]
     },
     "execution_count": 36,
     "metadata": {},
     "output_type": "execute_result"
    }
   ],
   "source": [
    "X_test_scaled"
   ]
  },
  {
   "cell_type": "markdown",
   "id": "13930911-f0a3-4c2e-a0b2-db97905cdd83",
   "metadata": {},
   "source": [
    "## Box Plot to Understand the Effect of Standardization"
   ]
  },
  {
   "cell_type": "code",
   "execution_count": 37,
   "id": "982bef4c-7185-4a81-ac2f-1e2a7bca0d2e",
   "metadata": {},
   "outputs": [
    {
     "data": {
      "image/png": "[encoded data removed]",
      "text/plain": [
       "<Figure size 1500x500 with 3 Axes>"
      ]
     },
     "metadata": {},
     "output_type": "display_data"
    }
   ],
   "source": [
    "plt.subplots(figsize=(15,5))\n",
    "\n",
    "#plot figure 1\n",
    "plt.subplot(121)\n",
    "sns.boxplot(data=X_train)\n",
    "plt.title('X_train Before Scaling' , weight='bold')\n",
    "\n",
    "#plot figure 2\n",
    "plt.subplot(122)\n",
    "sns.boxplot(data=X_train_scaled)\n",
    "plt.title('X_train After Scaling' , weight='bold')\n",
    "plt.show()"
   ]
  },
  {
   "cell_type": "markdown",
   "id": "c07fc2ed-35d8-4f35-807b-a2afac5be20b",
   "metadata": {},
   "source": [
    "## Model Building and Evaluation"
   ]
  },
  {
   "cell_type": "markdown",
   "id": "605bf4c6-17c0-4903-9cc9-fffeccc202ed",
   "metadata": {},
   "source": [
    "### Linear Regression Model"
   ]
  },
  {
   "cell_type": "code",
   "execution_count": 40,
   "id": "bf1ebe5b-ce68-4a6a-96d2-e7bf9630f711",
   "metadata": {},
   "outputs": [
    {
     "name": "stdout",
     "output_type": "stream",
     "text": [
      "Mean Squared Error :  4.6639095741834735\n",
      "Mean Absolutre Error :  0.9159339253424411\n",
      "R2 Score :  0.9323075895025762\n"
     ]
    },
    {
     "data": {
      "image/png": "[encoded data removed]",
      "text/plain": [
       "<Figure size 640x480 with 1 Axes>"
      ]
     },
     "metadata": {},
     "output_type": "display_data"
    }
   ],
   "source": [
    "lr = LinearRegression().fit(X_train_scaled,y_train)\n",
    "y_pred_lr = lr.predict(X_test_scaled)\n",
    "\n",
    "print(\"Mean Squared Error : \" , mean_squared_error(y_test , y_pred_lr))\n",
    "print(\"Mean Absolutre Error : \" , mean_absolute_error(y_test , y_pred_lr))\n",
    "print(\"R2 Score : \" , r2_score(y_test , y_pred_lr))\n",
    "\n",
    "plt.scatter(y_test , y_pred_lr)\n",
    "plt.show()"
   ]
  },
  {
   "cell_type": "markdown",
   "id": "6ff0521b-c76c-4d67-a744-c0712f21a70b",
   "metadata": {},
   "source": [
    "## Lasso Regression Model"
   ]
  },
  {
   "cell_type": "code",
   "execution_count": 41,
   "id": "ff2122f2-2d46-463b-9975-123c80f0018e",
   "metadata": {},
   "outputs": [
    {
     "name": "stdout",
     "output_type": "stream",
     "text": [
      "Mean Squared Error :  5.203221389987195\n",
      "Mean Absolutre Error :  1.510737610628723\n",
      "R2 Score :  0.9244799684389993\n"
     ]
    },
    {
     "data": {
      "image/png": "[encoded data removed]",
      "text/plain": [
       "<Figure size 640x480 with 1 Axes>"
      ]
     },
     "metadata": {},
     "output_type": "display_data"
    }
   ],
   "source": [
    "lasso = Lasso().fit(X_train_scaled,y_train)\n",
    "y_pred_lasso = lasso.predict(X_test_scaled)\n",
    "\n",
    "print(\"Mean Squared Error : \" , mean_squared_error(y_test , y_pred_lasso))\n",
    "print(\"Mean Absolutre Error : \" , mean_absolute_error(y_test , y_pred_lasso))\n",
    "print(\"R2 Score : \" , r2_score(y_test , y_pred_lasso))\n",
    "\n",
    "plt.scatter(y_test , y_pred_lasso)\n",
    "plt.show()"
   ]
  },
  {
   "cell_type": "markdown",
   "id": "0d1f002f-34f3-4baf-8b0c-750efeb1c502",
   "metadata": {},
   "source": [
    "## LassoCV (Cross Validation)"
   ]
  },
  {
   "cell_type": "code",
   "execution_count": 42,
   "id": "6cdb4ed7-9b56-4d0e-8cc0-02f0e7a9207c",
   "metadata": {},
   "outputs": [
    {
     "data": {
      "text/plain": [
       "0.023315150206844333"
      ]
     },
     "execution_count": 42,
     "metadata": {},
     "output_type": "execute_result"
    }
   ],
   "source": [
    "lassocv = LassoCV(cv=5).fit(X_train_scaled,y_train)\n",
    "lassocv.alpha_"
   ]
  },
  {
   "cell_type": "code",
   "execution_count": 44,
   "id": "11fc919b-86e6-40eb-8693-13aa05852ea1",
   "metadata": {},
   "outputs": [
    {
     "data": {
      "text/plain": [
       "array([6.64023841, 6.19270856, 5.77534073, 5.3861021 , 5.02309684,\n",
       "       4.68455693, 4.36883347, 4.07438871, 3.79978855, 3.54369552,\n",
       "       3.3048623 , 3.08212564, 2.87440069, 2.6806757 , 2.50000713,\n",
       "       2.33151502, 2.17437871, 2.02783286, 1.89116372, 1.76370561,\n",
       "       1.64483776, 1.5339812 , 1.430596  , 1.33417862, 1.24425944,\n",
       "       1.16040052, 1.08219341, 1.00925719, 0.94123664, 0.87780044,\n",
       "       0.81863963, 0.76346606, 0.712011  , 0.66402384, 0.61927086,\n",
       "       0.57753407, 0.53861021, 0.50230968, 0.46845569, 0.43688335,\n",
       "       0.40743887, 0.37997886, 0.35436955, 0.33048623, 0.30821256,\n",
       "       0.28744007, 0.26806757, 0.25000071, 0.2331515 , 0.21743787,\n",
       "       0.20278329, 0.18911637, 0.17637056, 0.16448378, 0.15339812,\n",
       "       0.1430596 , 0.13341786, 0.12442594, 0.11604005, 0.10821934,\n",
       "       0.10092572, 0.09412366, 0.08778004, 0.08186396, 0.07634661,\n",
       "       0.0712011 , 0.06640238, 0.06192709, 0.05775341, 0.05386102,\n",
       "       0.05023097, 0.04684557, 0.04368833, 0.04074389, 0.03799789,\n",
       "       0.03543696, 0.03304862, 0.03082126, 0.02874401, 0.02680676,\n",
       "       0.02500007, 0.02331515, 0.02174379, 0.02027833, 0.01891164,\n",
       "       0.01763706, 0.01644838, 0.01533981, 0.01430596, 0.01334179,\n",
       "       0.01244259, 0.01160401, 0.01082193, 0.01009257, 0.00941237,\n",
       "       0.008778  , 0.0081864 , 0.00763466, 0.00712011, 0.00664024])"
      ]
     },
     "execution_count": 44,
     "metadata": {},
     "output_type": "execute_result"
    }
   ],
   "source": [
    "lassocv.alphas_"
   ]
  },
  {
   "cell_type": "code",
   "execution_count": 46,
   "id": "7132f8a1-eb35-4190-8790-72ca805564c9",
   "metadata": {},
   "outputs": [
    {
     "data": {
      "text/plain": [
       "{'alphas': None,\n",
       " 'copy_X': True,\n",
       " 'cv': 5,\n",
       " 'eps': 0.001,\n",
       " 'fit_intercept': True,\n",
       " 'max_iter': 1000,\n",
       " 'n_alphas': 100,\n",
       " 'n_jobs': None,\n",
       " 'positive': False,\n",
       " 'precompute': 'auto',\n",
       " 'random_state': None,\n",
       " 'selection': 'cyclic',\n",
       " 'tol': 0.0001,\n",
       " 'verbose': False}"
      ]
     },
     "execution_count": 46,
     "metadata": {},
     "output_type": "execute_result"
    }
   ],
   "source": [
    "lassocv.get_params()"
   ]
  },
  {
   "cell_type": "code",
   "execution_count": 47,
   "id": "eeb82162-5faf-4f09-bc53-b8088d403387",
   "metadata": {},
   "outputs": [
    {
     "data": {
      "text/plain": [
       "0.001"
      ]
     },
     "execution_count": 47,
     "metadata": {},
     "output_type": "execute_result"
    }
   ],
   "source": [
    "lassocv.eps"
   ]
  },
  {
   "cell_type": "markdown",
   "id": "2ad9a997-8bac-46f0-8f79-e08199ed53da",
   "metadata": {},
   "source": [
    "## Ridge Regression Model"
   ]
  },
  {
   "cell_type": "code",
   "execution_count": 48,
   "id": "6cab56e9-da6b-4c7a-80ae-373ff28652ce",
   "metadata": {},
   "outputs": [
    {
     "name": "stdout",
     "output_type": "stream",
     "text": [
      "Mean Squared Error :  4.522992416066226\n",
      "Mean Absolutre Error :  0.9195139090491503\n",
      "R2 Score :  0.9343528740351505\n"
     ]
    },
    {
     "data": {
      "image/png": "[encoded data removed]",
      "text/plain": [
       "<Figure size 640x480 with 1 Axes>"
      ]
     },
     "metadata": {},
     "output_type": "display_data"
    }
   ],
   "source": [
    "ridge = Ridge().fit(X_train_scaled,y_train)\n",
    "y_pred_ridge = ridge.predict(X_test_scaled)\n",
    "\n",
    "print(\"Mean Squared Error : \" , mean_squared_error(y_test , y_pred_ridge))\n",
    "print(\"Mean Absolutre Error : \" , mean_absolute_error(y_test , y_pred_ridge))\n",
    "print(\"R2 Score : \" , r2_score(y_test , y_pred_ridge))\n",
    "\n",
    "plt.scatter(y_test , y_pred_ridge)\n",
    "plt.show()"
   ]
  },
  {
   "cell_type": "markdown",
   "id": "9437474e-7f61-4fbb-9ff9-3be586f9e7ee",
   "metadata": {},
   "source": [
    "## RidgeCV(Cross Validation)"
   ]
  },
  {
   "cell_type": "code",
   "execution_count": 49,
   "id": "de582559-ac38-4fd3-9400-7b8f0bf16927",
   "metadata": {},
   "outputs": [
    {
     "data": {
      "text/plain": [
       "1.0"
      ]
     },
     "execution_count": 49,
     "metadata": {},
     "output_type": "execute_result"
    }
   ],
   "source": [
    "ridgecv = RidgeCV(cv=5).fit(X_train_scaled,y_train)\n",
    "ridgecv.alpha_"
   ]
  },
  {
   "cell_type": "code",
   "execution_count": 50,
   "id": "b95db9a5-6976-426d-b3a2-c5673fed114f",
   "metadata": {},
   "outputs": [
    {
     "data": {
      "text/plain": [
       "(0.1, 1.0, 10.0)"
      ]
     },
     "execution_count": 50,
     "metadata": {},
     "output_type": "execute_result"
    }
   ],
   "source": [
    "ridgecv.alphas"
   ]
  },
  {
   "cell_type": "code",
   "execution_count": 51,
   "id": "1e7ee9f2-dc0e-4108-b48a-de1cbc3f0468",
   "metadata": {},
   "outputs": [
    {
     "data": {
      "text/plain": [
       "0.9861187419596329"
      ]
     },
     "execution_count": 51,
     "metadata": {},
     "output_type": "execute_result"
    }
   ],
   "source": [
    "ridgecv.best_score_"
   ]
  },
  {
   "cell_type": "code",
   "execution_count": 52,
   "id": "65bb717d-7192-418e-bdd8-0518bf8e76be",
   "metadata": {},
   "outputs": [
    {
     "data": {
      "text/plain": [
       "False"
      ]
     },
     "execution_count": 52,
     "metadata": {},
     "output_type": "execute_result"
    }
   ],
   "source": [
    "ridgecv.alpha_per_target"
   ]
  },
  {
   "cell_type": "code",
   "execution_count": 57,
   "id": "df4ab520-fff2-45d0-b75d-ee4edd08bce4",
   "metadata": {},
   "outputs": [
    {
     "data": {
      "text/plain": [
       "5"
      ]
     },
     "execution_count": 57,
     "metadata": {},
     "output_type": "execute_result"
    }
   ],
   "source": [
    "ridgecv.cv"
   ]
  },
  {
   "cell_type": "code",
   "execution_count": 58,
   "id": "e9f237ac-3805-4609-a56e-23c8f79023f3",
   "metadata": {},
   "outputs": [
    {
     "data": {
      "text/plain": [
       "9"
      ]
     },
     "execution_count": 58,
     "metadata": {},
     "output_type": "execute_result"
    }
   ],
   "source": [
    "ridgecv.n_features_in_"
   ]
  },
  {
   "cell_type": "code",
   "execution_count": 61,
   "id": "d2214748-7ee2-4d1b-bc66-97b3e6612839",
   "metadata": {},
   "outputs": [],
   "source": [
    "ridgecv.scoring"
   ]
  },
  {
   "cell_type": "markdown",
   "id": "40ace2fc-f245-40c8-8f15-82a23b140653",
   "metadata": {},
   "source": [
    "## ElasticNet Regression"
   ]
  },
  {
   "cell_type": "code",
   "execution_count": 63,
   "id": "39cc816c-1b77-40a2-b603-1fc3d92bf7f0",
   "metadata": {},
   "outputs": [
    {
     "name": "stdout",
     "output_type": "stream",
     "text": [
      "Mean Squared Error :  9.09270782886134\n",
      "Mean Absolutre Error :  2.169428649532212\n",
      "R2 Score :  0.8680276062187205\n"
     ]
    },
    {
     "data": {
      "image/png": "[encoded data removed]",
      "text/plain": [
       "<Figure size 640x480 with 1 Axes>"
      ]
     },
     "metadata": {},
     "output_type": "display_data"
    }
   ],
   "source": [
    "en = ElasticNet().fit(X_train_scaled,y_train)\n",
    "y_pred_en = en.predict(X_test_scaled)\n",
    "\n",
    "print(\"Mean Squared Error : \" , mean_squared_error(y_test , y_pred_en))\n",
    "print(\"Mean Absolutre Error : \" , mean_absolute_error(y_test , y_pred_en))\n",
    "print(\"R2 Score : \" , r2_score(y_test , y_pred_en))\n",
    "\n",
    "plt.scatter(y_test , y_pred_en)\n",
    "plt.show()"
   ]
  },
  {
   "cell_type": "markdown",
   "id": "4ce583ff-51a6-46a3-897b-6b68e433e5d3",
   "metadata": {},
   "source": [
    "## ElasticNetCV(Cross Validation)"
   ]
  },
  {
   "cell_type": "code",
   "execution_count": 64,
   "id": "9d4209d6-013a-447c-9192-e0eac5e4965c",
   "metadata": {},
   "outputs": [
    {
     "data": {
      "text/plain": [
       "0.013280476813412214"
      ]
     },
     "execution_count": 64,
     "metadata": {},
     "output_type": "execute_result"
    }
   ],
   "source": [
    "encv = ElasticNetCV(cv=5).fit(X_train_scaled,y_train)\n",
    "encv.alpha_"
   ]
  },
  {
   "cell_type": "code",
   "execution_count": 65,
   "id": "b8060873-82ff-4201-a8d8-6c48f5ae6bb9",
   "metadata": {},
   "outputs": [
    {
     "data": {
      "text/plain": [
       "array([13.28047681, 12.38541712, 11.55068146, 10.77220419, 10.04619368,\n",
       "        9.36911385,  8.73766693,  8.14877743,  7.5995771 ,  7.08739104,\n",
       "        6.6097246 ,  6.16425129,  5.74880138,  5.36135141,  5.00001427,\n",
       "        4.66303004,  4.34875742,  4.05566573,  3.78232743,  3.52741122,\n",
       "        3.28967551,  3.06796239,  2.86119199,  2.66835723,  2.48851888,\n",
       "        2.32080104,  2.16438682,  2.01851439,  1.88247328,  1.75560088,\n",
       "        1.63727925,  1.52693211,  1.424022  ,  1.32804768,  1.23854171,\n",
       "        1.15506815,  1.07722042,  1.00461937,  0.93691139,  0.87376669,\n",
       "        0.81487774,  0.75995771,  0.7087391 ,  0.66097246,  0.61642513,\n",
       "        0.57488014,  0.53613514,  0.50000143,  0.466303  ,  0.43487574,\n",
       "        0.40556657,  0.37823274,  0.35274112,  0.32896755,  0.30679624,\n",
       "        0.2861192 ,  0.26683572,  0.24885189,  0.2320801 ,  0.21643868,\n",
       "        0.20185144,  0.18824733,  0.17556009,  0.16372793,  0.15269321,\n",
       "        0.1424022 ,  0.13280477,  0.12385417,  0.11550681,  0.10772204,\n",
       "        0.10046194,  0.09369114,  0.08737667,  0.08148777,  0.07599577,\n",
       "        0.07087391,  0.06609725,  0.06164251,  0.05748801,  0.05361351,\n",
       "        0.05000014,  0.0466303 ,  0.04348757,  0.04055666,  0.03782327,\n",
       "        0.03527411,  0.03289676,  0.03067962,  0.02861192,  0.02668357,\n",
       "        0.02488519,  0.02320801,  0.02164387,  0.02018514,  0.01882473,\n",
       "        0.01755601,  0.01637279,  0.01526932,  0.01424022,  0.01328048])"
      ]
     },
     "execution_count": 65,
     "metadata": {},
     "output_type": "execute_result"
    }
   ],
   "source": [
    "encv.alphas_"
   ]
  },
  {
   "cell_type": "code",
   "execution_count": 67,
   "id": "094c81b3-b286-4e9d-8593-4656d48e17dd",
   "metadata": {},
   "outputs": [
    {
     "data": {
      "text/plain": [
       "{'alphas': None,\n",
       " 'copy_X': True,\n",
       " 'cv': 5,\n",
       " 'eps': 0.001,\n",
       " 'fit_intercept': True,\n",
       " 'l1_ratio': 0.5,\n",
       " 'max_iter': 1000,\n",
       " 'n_alphas': 100,\n",
       " 'n_jobs': None,\n",
       " 'positive': False,\n",
       " 'precompute': 'auto',\n",
       " 'random_state': None,\n",
       " 'selection': 'cyclic',\n",
       " 'tol': 0.0001,\n",
       " 'verbose': 0}"
      ]
     },
     "execution_count": 67,
     "metadata": {},
     "output_type": "execute_result"
    }
   ],
   "source": [
    "encv.get_params()"
   ]
  },
  {
   "cell_type": "code",
   "execution_count": 68,
   "id": "e1394d9b-e452-44c7-b181-3afa0e3ce8eb",
   "metadata": {},
   "outputs": [
    {
     "data": {
      "text/html": [
       "<style>#sk-container-id-1 {\n",
       "  /* Definition of color scheme common for light and dark mode */\n",
       "  --sklearn-color-text: black;\n",
       "  --sklearn-color-line: gray;\n",
       "  /* Definition of color scheme for unfitted estimators */\n",
       "  --sklearn-color-unfitted-level-0: #fff5e6;\n",
       "  --sklearn-color-unfitted-level-1: #f6e4d2;\n",
       "  --sklearn-color-unfitted-level-2: #ffe0b3;\n",
       "  --sklearn-color-unfitted-level-3: chocolate;\n",
       "  /* Definition of color scheme for fitted estimators */\n",
       "  --sklearn-color-fitted-level-0: #f0f8ff;\n",
       "  --sklearn-color-fitted-level-1: #d4ebff;\n",
       "  --sklearn-color-fitted-level-2: #b3dbfd;\n",
       "  --sklearn-color-fitted-level-3: cornflowerblue;\n",
       "\n",
       "  /* Specific color for light theme */\n",
       "  --sklearn-color-text-on-default-background: var(--sg-text-color, var(--theme-code-foreground, var(--jp-content-font-color1, black)));\n",
       "  --sklearn-color-background: var(--sg-background-color, var(--theme-background, var(--jp-layout-color0, white)));\n",
       "  --sklearn-color-border-box: var(--sg-text-color, var(--theme-code-foreground, var(--jp-content-font-color1, black)));\n",
       "  --sklearn-color-icon: #696969;\n",
       "\n",
       "  @media (prefers-color-scheme: dark) {\n",
       "    /* Redefinition of color scheme for dark theme */\n",
       "    --sklearn-color-text-on-default-background: var(--sg-text-color, var(--theme-code-foreground, var(--jp-content-font-color1, white)));\n",
       "    --sklearn-color-background: var(--sg-background-color, var(--theme-background, var(--jp-layout-color0, #111)));\n",
       "    --sklearn-color-border-box: var(--sg-text-color, var(--theme-code-foreground, var(--jp-content-font-color1, white)));\n",
       "    --sklearn-color-icon: #878787;\n",
       "  }\n",
       "}\n",
       "\n",
       "#sk-container-id-1 {\n",
       "  color: var(--sklearn-color-text);\n",
       "}\n",
       "\n",
       "#sk-container-id-1 pre {\n",
       "  padding: 0;\n",
       "}\n",
       "\n",
       "#sk-container-id-1 input.sk-hidden--visually {\n",
       "  border: 0;\n",
       "  clip: rect(1px 1px 1px 1px);\n",
       "  clip: rect(1px, 1px, 1px, 1px);\n",
       "  height: 1px;\n",
       "  margin: -1px;\n",
       "  overflow: hidden;\n",
       "  padding: 0;\n",
       "  position: absolute;\n",
       "  width: 1px;\n",
       "}\n",
       "\n",
       "#sk-container-id-1 div.sk-dashed-wrapped {\n",
       "  border: 1px dashed var(--sklearn-color-line);\n",
       "  margin: 0 0.4em 0.5em 0.4em;\n",
       "  box-sizing: border-box;\n",
       "  padding-bottom: 0.4em;\n",
       "  background-color: var(--sklearn-color-background);\n",
       "}\n",
       "\n",
       "#sk-container-id-1 div.sk-container {\n",
       "  /* jupyter's `normalize.less` sets `[hidden] { display: none; }`\n",
       "     but bootstrap.min.css set `[hidden] { display: none !important; }`\n",
       "     so we also need the `!important` here to be able to override the\n",
       "     default hidden behavior on the sphinx rendered scikit-learn.org.\n",
       "     See: https://github.com/scikit-learn/scikit-learn/issues/21755 */\n",
       "  display: inline-block !important;\n",
       "  position: relative;\n",
       "}\n",
       "\n",
       "#sk-container-id-1 div.sk-text-repr-fallback {\n",
       "  display: none;\n",
       "}\n",
       "\n",
       "div.sk-parallel-item,\n",
       "div.sk-serial,\n",
       "div.sk-item {\n",
       "  /* draw centered vertical line to link estimators */\n",
       "  background-image: linear-gradient(var(--sklearn-color-text-on-default-background), var(--sklearn-color-text-on-default-background));\n",
       "  background-size: 2px 100%;\n",
       "  background-repeat: no-repeat;\n",
       "  background-position: center center;\n",
       "}\n",
       "\n",
       "/* Parallel-specific style estimator block */\n",
       "\n",
       "#sk-container-id-1 div.sk-parallel-item::after {\n",
       "  content: \"\";\n",
       "  width: 100%;\n",
       "  border-bottom: 2px solid var(--sklearn-color-text-on-default-background);\n",
       "  flex-grow: 1;\n",
       "}\n",
       "\n",
       "#sk-container-id-1 div.sk-parallel {\n",
       "  display: flex;\n",
       "  align-items: stretch;\n",
       "  justify-content: center;\n",
       "  background-color: var(--sklearn-color-background);\n",
       "  position: relative;\n",
       "}\n",
       "\n",
       "#sk-container-id-1 div.sk-parallel-item {\n",
       "  display: flex;\n",
       "  flex-direction: column;\n",
       "}\n",
       "\n",
       "#sk-container-id-1 div.sk-parallel-item:first-child::after {\n",
       "  align-self: flex-end;\n",
       "  width: 50%;\n",
       "}\n",
       "\n",
       "#sk-container-id-1 div.sk-parallel-item:last-child::after {\n",
       "  align-self: flex-start;\n",
       "  width: 50%;\n",
       "}\n",
       "\n",
       "#sk-container-id-1 div.sk-parallel-item:only-child::after {\n",
       "  width: 0;\n",
       "}\n",
       "\n",
       "/* Serial-specific style estimator block */\n",
       "\n",
       "#sk-container-id-1 div.sk-serial {\n",
       "  display: flex;\n",
       "  flex-direction: column;\n",
       "  align-items: center;\n",
       "  background-color: var(--sklearn-color-background);\n",
       "  padding-right: 1em;\n",
       "  padding-left: 1em;\n",
       "}\n",
       "\n",
       "\n",
       "/* Toggleable style: style used for estimator/Pipeline/ColumnTransformer box that is\n",
       "clickable and can be expanded/collapsed.\n",
       "- Pipeline and ColumnTransformer use this feature and define the default style\n",
       "- Estimators will overwrite some part of the style using the `sk-estimator` class\n",
       "*/\n",
       "\n",
       "/* Pipeline and ColumnTransformer style (default) */\n",
       "\n",
       "#sk-container-id-1 div.sk-toggleable {\n",
       "  /* Default theme specific background. It is overwritten whether we have a\n",
       "  specific estimator or a Pipeline/ColumnTransformer */\n",
       "  background-color: var(--sklearn-color-background);\n",
       "}\n",
       "\n",
       "/* Toggleable label */\n",
       "#sk-container-id-1 label.sk-toggleable__label {\n",
       "  cursor: pointer;\n",
       "  display: block;\n",
       "  width: 100%;\n",
       "  margin-bottom: 0;\n",
       "  padding: 0.5em;\n",
       "  box-sizing: border-box;\n",
       "  text-align: center;\n",
       "}\n",
       "\n",
       "#sk-container-id-1 label.sk-toggleable__label-arrow:before {\n",
       "  /* Arrow on the left of the label */\n",
       "  content: \"▸\";\n",
       "  float: left;\n",
       "  margin-right: 0.25em;\n",
       "  color: var(--sklearn-color-icon);\n",
       "}\n",
       "\n",
       "#sk-container-id-1 label.sk-toggleable__label-arrow:hover:before {\n",
       "  color: var(--sklearn-color-text);\n",
       "}\n",
       "\n",
       "/* Toggleable content - dropdown */\n",
       "\n",
       "#sk-container-id-1 div.sk-toggleable__content {\n",
       "  max-height: 0;\n",
       "  max-width: 0;\n",
       "  overflow: hidden;\n",
       "  text-align: left;\n",
       "  /* unfitted */\n",
       "  background-color: var(--sklearn-color-unfitted-level-0);\n",
       "}\n",
       "\n",
       "#sk-container-id-1 div.sk-toggleable__content.fitted {\n",
       "  /* fitted */\n",
       "  background-color: var(--sklearn-color-fitted-level-0);\n",
       "}\n",
       "\n",
       "#sk-container-id-1 div.sk-toggleable__content pre {\n",
       "  margin: 0.2em;\n",
       "  border-radius: 0.25em;\n",
       "  color: var(--sklearn-color-text);\n",
       "  /* unfitted */\n",
       "  background-color: var(--sklearn-color-unfitted-level-0);\n",
       "}\n",
       "\n",
       "#sk-container-id-1 div.sk-toggleable__content.fitted pre {\n",
       "  /* unfitted */\n",
       "  background-color: var(--sklearn-color-fitted-level-0);\n",
       "}\n",
       "\n",
       "#sk-container-id-1 input.sk-toggleable__control:checked~div.sk-toggleable__content {\n",
       "  /* Expand drop-down */\n",
       "  max-height: 200px;\n",
       "  max-width: 100%;\n",
       "  overflow: auto;\n",
       "}\n",
       "\n",
       "#sk-container-id-1 input.sk-toggleable__control:checked~label.sk-toggleable__label-arrow:before {\n",
       "  content: \"▾\";\n",
       "}\n",
       "\n",
       "/* Pipeline/ColumnTransformer-specific style */\n",
       "\n",
       "#sk-container-id-1 div.sk-label input.sk-toggleable__control:checked~label.sk-toggleable__label {\n",
       "  color: var(--sklearn-color-text);\n",
       "  background-color: var(--sklearn-color-unfitted-level-2);\n",
       "}\n",
       "\n",
       "#sk-container-id-1 div.sk-label.fitted input.sk-toggleable__control:checked~label.sk-toggleable__label {\n",
       "  background-color: var(--sklearn-color-fitted-level-2);\n",
       "}\n",
       "\n",
       "/* Estimator-specific style */\n",
       "\n",
       "/* Colorize estimator box */\n",
       "#sk-container-id-1 div.sk-estimator input.sk-toggleable__control:checked~label.sk-toggleable__label {\n",
       "  /* unfitted */\n",
       "  background-color: var(--sklearn-color-unfitted-level-2);\n",
       "}\n",
       "\n",
       "#sk-container-id-1 div.sk-estimator.fitted input.sk-toggleable__control:checked~label.sk-toggleable__label {\n",
       "  /* fitted */\n",
       "  background-color: var(--sklearn-color-fitted-level-2);\n",
       "}\n",
       "\n",
       "#sk-container-id-1 div.sk-label label.sk-toggleable__label,\n",
       "#sk-container-id-1 div.sk-label label {\n",
       "  /* The background is the default theme color */\n",
       "  color: var(--sklearn-color-text-on-default-background);\n",
       "}\n",
       "\n",
       "/* On hover, darken the color of the background */\n",
       "#sk-container-id-1 div.sk-label:hover label.sk-toggleable__label {\n",
       "  color: var(--sklearn-color-text);\n",
       "  background-color: var(--sklearn-color-unfitted-level-2);\n",
       "}\n",
       "\n",
       "/* Label box, darken color on hover, fitted */\n",
       "#sk-container-id-1 div.sk-label.fitted:hover label.sk-toggleable__label.fitted {\n",
       "  color: var(--sklearn-color-text);\n",
       "  background-color: var(--sklearn-color-fitted-level-2);\n",
       "}\n",
       "\n",
       "/* Estimator label */\n",
       "\n",
       "#sk-container-id-1 div.sk-label label {\n",
       "  font-family: monospace;\n",
       "  font-weight: bold;\n",
       "  display: inline-block;\n",
       "  line-height: 1.2em;\n",
       "}\n",
       "\n",
       "#sk-container-id-1 div.sk-label-container {\n",
       "  text-align: center;\n",
       "}\n",
       "\n",
       "/* Estimator-specific */\n",
       "#sk-container-id-1 div.sk-estimator {\n",
       "  font-family: monospace;\n",
       "  border: 1px dotted var(--sklearn-color-border-box);\n",
       "  border-radius: 0.25em;\n",
       "  box-sizing: border-box;\n",
       "  margin-bottom: 0.5em;\n",
       "  /* unfitted */\n",
       "  background-color: var(--sklearn-color-unfitted-level-0);\n",
       "}\n",
       "\n",
       "#sk-container-id-1 div.sk-estimator.fitted {\n",
       "  /* fitted */\n",
       "  background-color: var(--sklearn-color-fitted-level-0);\n",
       "}\n",
       "\n",
       "/* on hover */\n",
       "#sk-container-id-1 div.sk-estimator:hover {\n",
       "  /* unfitted */\n",
       "  background-color: var(--sklearn-color-unfitted-level-2);\n",
       "}\n",
       "\n",
       "#sk-container-id-1 div.sk-estimator.fitted:hover {\n",
       "  /* fitted */\n",
       "  background-color: var(--sklearn-color-fitted-level-2);\n",
       "}\n",
       "\n",
       "/* Specification for estimator info (e.g. \"i\" and \"?\") */\n",
       "\n",
       "/* Common style for \"i\" and \"?\" */\n",
       "\n",
       ".sk-estimator-doc-link,\n",
       "a:link.sk-estimator-doc-link,\n",
       "a:visited.sk-estimator-doc-link {\n",
       "  float: right;\n",
       "  font-size: smaller;\n",
       "  line-height: 1em;\n",
       "  font-family: monospace;\n",
       "  background-color: var(--sklearn-color-background);\n",
       "  border-radius: 1em;\n",
       "  height: 1em;\n",
       "  width: 1em;\n",
       "  text-decoration: none !important;\n",
       "  margin-left: 1ex;\n",
       "  /* unfitted */\n",
       "  border: var(--sklearn-color-unfitted-level-1) 1pt solid;\n",
       "  color: var(--sklearn-color-unfitted-level-1);\n",
       "}\n",
       "\n",
       ".sk-estimator-doc-link.fitted,\n",
       "a:link.sk-estimator-doc-link.fitted,\n",
       "a:visited.sk-estimator-doc-link.fitted {\n",
       "  /* fitted */\n",
       "  border: var(--sklearn-color-fitted-level-1) 1pt solid;\n",
       "  color: var(--sklearn-color-fitted-level-1);\n",
       "}\n",
       "\n",
       "/* On hover */\n",
       "div.sk-estimator:hover .sk-estimator-doc-link:hover,\n",
       ".sk-estimator-doc-link:hover,\n",
       "div.sk-label-container:hover .sk-estimator-doc-link:hover,\n",
       ".sk-estimator-doc-link:hover {\n",
       "  /* unfitted */\n",
       "  background-color: var(--sklearn-color-unfitted-level-3);\n",
       "  color: var(--sklearn-color-background);\n",
       "  text-decoration: none;\n",
       "}\n",
       "\n",
       "div.sk-estimator.fitted:hover .sk-estimator-doc-link.fitted:hover,\n",
       ".sk-estimator-doc-link.fitted:hover,\n",
       "div.sk-label-container:hover .sk-estimator-doc-link.fitted:hover,\n",
       ".sk-estimator-doc-link.fitted:hover {\n",
       "  /* fitted */\n",
       "  background-color: var(--sklearn-color-fitted-level-3);\n",
       "  color: var(--sklearn-color-background);\n",
       "  text-decoration: none;\n",
       "}\n",
       "\n",
       "/* Span, style for the box shown on hovering the info icon */\n",
       ".sk-estimator-doc-link span {\n",
       "  display: none;\n",
       "  z-index: 9999;\n",
       "  position: relative;\n",
       "  font-weight: normal;\n",
       "  right: .2ex;\n",
       "  padding: .5ex;\n",
       "  margin: .5ex;\n",
       "  width: min-content;\n",
       "  min-width: 20ex;\n",
       "  max-width: 50ex;\n",
       "  color: var(--sklearn-color-text);\n",
       "  box-shadow: 2pt 2pt 4pt #999;\n",
       "  /* unfitted */\n",
       "  background: var(--sklearn-color-unfitted-level-0);\n",
       "  border: .5pt solid var(--sklearn-color-unfitted-level-3);\n",
       "}\n",
       "\n",
       ".sk-estimator-doc-link.fitted span {\n",
       "  /* fitted */\n",
       "  background: var(--sklearn-color-fitted-level-0);\n",
       "  border: var(--sklearn-color-fitted-level-3);\n",
       "}\n",
       "\n",
       ".sk-estimator-doc-link:hover span {\n",
       "  display: block;\n",
       "}\n",
       "\n",
       "/* \"?\"-specific style due to the `<a>` HTML tag */\n",
       "\n",
       "#sk-container-id-1 a.estimator_doc_link {\n",
       "  float: right;\n",
       "  font-size: 1rem;\n",
       "  line-height: 1em;\n",
       "  font-family: monospace;\n",
       "  background-color: var(--sklearn-color-background);\n",
       "  border-radius: 1rem;\n",
       "  height: 1rem;\n",
       "  width: 1rem;\n",
       "  text-decoration: none;\n",
       "  /* unfitted */\n",
       "  color: var(--sklearn-color-unfitted-level-1);\n",
       "  border: var(--sklearn-color-unfitted-level-1) 1pt solid;\n",
       "}\n",
       "\n",
       "#sk-container-id-1 a.estimator_doc_link.fitted {\n",
       "  /* fitted */\n",
       "  border: var(--sklearn-color-fitted-level-1) 1pt solid;\n",
       "  color: var(--sklearn-color-fitted-level-1);\n",
       "}\n",
       "\n",
       "/* On hover */\n",
       "#sk-container-id-1 a.estimator_doc_link:hover {\n",
       "  /* unfitted */\n",
       "  background-color: var(--sklearn-color-unfitted-level-3);\n",
       "  color: var(--sklearn-color-background);\n",
       "  text-decoration: none;\n",
       "}\n",
       "\n",
       "#sk-container-id-1 a.estimator_doc_link.fitted:hover {\n",
       "  /* fitted */\n",
       "  background-color: var(--sklearn-color-fitted-level-3);\n",
       "}\n",
       "</style><div id=\"sk-container-id-1\" class=\"sk-top-container\"><div class=\"sk-text-repr-fallback\"><pre>StandardScaler()</pre><b>In a Jupyter environment, please rerun this cell to show the HTML representation or trust the notebook. <br />On GitHub, the HTML representation is unable to render, please try loading this page with nbviewer.org.</b></div><div class=\"sk-container\" hidden><div class=\"sk-item\"><div class=\"sk-estimator fitted sk-toggleable\"><input class=\"sk-toggleable__control sk-hidden--visually\" id=\"sk-estimator-id-1\" type=\"checkbox\" checked><label for=\"sk-estimator-id-1\" class=\"sk-toggleable__label fitted sk-toggleable__label-arrow fitted\">&nbsp;&nbsp;StandardScaler<a class=\"sk-estimator-doc-link fitted\" rel=\"noreferrer\" target=\"_blank\" href=\"https://scikit-learn.org/1.5/modules/generated/sklearn.preprocessing.StandardScaler.html\">?<span>Documentation for StandardScaler</span></a><span class=\"sk-estimator-doc-link fitted\">i<span>Fitted</span></span></label><div class=\"sk-toggleable__content fitted\"><pre>StandardScaler()</pre></div> </div></div></div></div>"
      ],
      "text/plain": [
       "StandardScaler()"
      ]
     },
     "execution_count": 68,
     "metadata": {},
     "output_type": "execute_result"
    }
   ],
   "source": [
    "sc"
   ]
  },
  {
   "cell_type": "code",
   "execution_count": 69,
   "id": "70a959f1-4e2c-4c4a-964f-163302ce689c",
   "metadata": {},
   "outputs": [
    {
     "data": {
      "text/html": [
       "<style>#sk-container-id-2 {\n",
       "  /* Definition of color scheme common for light and dark mode */\n",
       "  --sklearn-color-text: black;\n",
       "  --sklearn-color-line: gray;\n",
       "  /* Definition of color scheme for unfitted estimators */\n",
       "  --sklearn-color-unfitted-level-0: #fff5e6;\n",
       "  --sklearn-color-unfitted-level-1: #f6e4d2;\n",
       "  --sklearn-color-unfitted-level-2: #ffe0b3;\n",
       "  --sklearn-color-unfitted-level-3: chocolate;\n",
       "  /* Definition of color scheme for fitted estimators */\n",
       "  --sklearn-color-fitted-level-0: #f0f8ff;\n",
       "  --sklearn-color-fitted-level-1: #d4ebff;\n",
       "  --sklearn-color-fitted-level-2: #b3dbfd;\n",
       "  --sklearn-color-fitted-level-3: cornflowerblue;\n",
       "\n",
       "  /* Specific color for light theme */\n",
       "  --sklearn-color-text-on-default-background: var(--sg-text-color, var(--theme-code-foreground, var(--jp-content-font-color1, black)));\n",
       "  --sklearn-color-background: var(--sg-background-color, var(--theme-background, var(--jp-layout-color0, white)));\n",
       "  --sklearn-color-border-box: var(--sg-text-color, var(--theme-code-foreground, var(--jp-content-font-color1, black)));\n",
       "  --sklearn-color-icon: #696969;\n",
       "\n",
       "  @media (prefers-color-scheme: dark) {\n",
       "    /* Redefinition of color scheme for dark theme */\n",
       "    --sklearn-color-text-on-default-background: var(--sg-text-color, var(--theme-code-foreground, var(--jp-content-font-color1, white)));\n",
       "    --sklearn-color-background: var(--sg-background-color, var(--theme-background, var(--jp-layout-color0, #111)));\n",
       "    --sklearn-color-border-box: var(--sg-text-color, var(--theme-code-foreground, var(--jp-content-font-color1, white)));\n",
       "    --sklearn-color-icon: #878787;\n",
       "  }\n",
       "}\n",
       "\n",
       "#sk-container-id-2 {\n",
       "  color: var(--sklearn-color-text);\n",
       "}\n",
       "\n",
       "#sk-container-id-2 pre {\n",
       "  padding: 0;\n",
       "}\n",
       "\n",
       "#sk-container-id-2 input.sk-hidden--visually {\n",
       "  border: 0;\n",
       "  clip: rect(1px 1px 1px 1px);\n",
       "  clip: rect(1px, 1px, 1px, 1px);\n",
       "  height: 1px;\n",
       "  margin: -1px;\n",
       "  overflow: hidden;\n",
       "  padding: 0;\n",
       "  position: absolute;\n",
       "  width: 1px;\n",
       "}\n",
       "\n",
       "#sk-container-id-2 div.sk-dashed-wrapped {\n",
       "  border: 1px dashed var(--sklearn-color-line);\n",
       "  margin: 0 0.4em 0.5em 0.4em;\n",
       "  box-sizing: border-box;\n",
       "  padding-bottom: 0.4em;\n",
       "  background-color: var(--sklearn-color-background);\n",
       "}\n",
       "\n",
       "#sk-container-id-2 div.sk-container {\n",
       "  /* jupyter's `normalize.less` sets `[hidden] { display: none; }`\n",
       "     but bootstrap.min.css set `[hidden] { display: none !important; }`\n",
       "     so we also need the `!important` here to be able to override the\n",
       "     default hidden behavior on the sphinx rendered scikit-learn.org.\n",
       "     See: https://github.com/scikit-learn/scikit-learn/issues/21755 */\n",
       "  display: inline-block !important;\n",
       "  position: relative;\n",
       "}\n",
       "\n",
       "#sk-container-id-2 div.sk-text-repr-fallback {\n",
       "  display: none;\n",
       "}\n",
       "\n",
       "div.sk-parallel-item,\n",
       "div.sk-serial,\n",
       "div.sk-item {\n",
       "  /* draw centered vertical line to link estimators */\n",
       "  background-image: linear-gradient(var(--sklearn-color-text-on-default-background), var(--sklearn-color-text-on-default-background));\n",
       "  background-size: 2px 100%;\n",
       "  background-repeat: no-repeat;\n",
       "  background-position: center center;\n",
       "}\n",
       "\n",
       "/* Parallel-specific style estimator block */\n",
       "\n",
       "#sk-container-id-2 div.sk-parallel-item::after {\n",
       "  content: \"\";\n",
       "  width: 100%;\n",
       "  border-bottom: 2px solid var(--sklearn-color-text-on-default-background);\n",
       "  flex-grow: 1;\n",
       "}\n",
       "\n",
       "#sk-container-id-2 div.sk-parallel {\n",
       "  display: flex;\n",
       "  align-items: stretch;\n",
       "  justify-content: center;\n",
       "  background-color: var(--sklearn-color-background);\n",
       "  position: relative;\n",
       "}\n",
       "\n",
       "#sk-container-id-2 div.sk-parallel-item {\n",
       "  display: flex;\n",
       "  flex-direction: column;\n",
       "}\n",
       "\n",
       "#sk-container-id-2 div.sk-parallel-item:first-child::after {\n",
       "  align-self: flex-end;\n",
       "  width: 50%;\n",
       "}\n",
       "\n",
       "#sk-container-id-2 div.sk-parallel-item:last-child::after {\n",
       "  align-self: flex-start;\n",
       "  width: 50%;\n",
       "}\n",
       "\n",
       "#sk-container-id-2 div.sk-parallel-item:only-child::after {\n",
       "  width: 0;\n",
       "}\n",
       "\n",
       "/* Serial-specific style estimator block */\n",
       "\n",
       "#sk-container-id-2 div.sk-serial {\n",
       "  display: flex;\n",
       "  flex-direction: column;\n",
       "  align-items: center;\n",
       "  background-color: var(--sklearn-color-background);\n",
       "  padding-right: 1em;\n",
       "  padding-left: 1em;\n",
       "}\n",
       "\n",
       "\n",
       "/* Toggleable style: style used for estimator/Pipeline/ColumnTransformer box that is\n",
       "clickable and can be expanded/collapsed.\n",
       "- Pipeline and ColumnTransformer use this feature and define the default style\n",
       "- Estimators will overwrite some part of the style using the `sk-estimator` class\n",
       "*/\n",
       "\n",
       "/* Pipeline and ColumnTransformer style (default) */\n",
       "\n",
       "#sk-container-id-2 div.sk-toggleable {\n",
       "  /* Default theme specific background. It is overwritten whether we have a\n",
       "  specific estimator or a Pipeline/ColumnTransformer */\n",
       "  background-color: var(--sklearn-color-background);\n",
       "}\n",
       "\n",
       "/* Toggleable label */\n",
       "#sk-container-id-2 label.sk-toggleable__label {\n",
       "  cursor: pointer;\n",
       "  display: block;\n",
       "  width: 100%;\n",
       "  margin-bottom: 0;\n",
       "  padding: 0.5em;\n",
       "  box-sizing: border-box;\n",
       "  text-align: center;\n",
       "}\n",
       "\n",
       "#sk-container-id-2 label.sk-toggleable__label-arrow:before {\n",
       "  /* Arrow on the left of the label */\n",
       "  content: \"▸\";\n",
       "  float: left;\n",
       "  margin-right: 0.25em;\n",
       "  color: var(--sklearn-color-icon);\n",
       "}\n",
       "\n",
       "#sk-container-id-2 label.sk-toggleable__label-arrow:hover:before {\n",
       "  color: var(--sklearn-color-text);\n",
       "}\n",
       "\n",
       "/* Toggleable content - dropdown */\n",
       "\n",
       "#sk-container-id-2 div.sk-toggleable__content {\n",
       "  max-height: 0;\n",
       "  max-width: 0;\n",
       "  overflow: hidden;\n",
       "  text-align: left;\n",
       "  /* unfitted */\n",
       "  background-color: var(--sklearn-color-unfitted-level-0);\n",
       "}\n",
       "\n",
       "#sk-container-id-2 div.sk-toggleable__content.fitted {\n",
       "  /* fitted */\n",
       "  background-color: var(--sklearn-color-fitted-level-0);\n",
       "}\n",
       "\n",
       "#sk-container-id-2 div.sk-toggleable__content pre {\n",
       "  margin: 0.2em;\n",
       "  border-radius: 0.25em;\n",
       "  color: var(--sklearn-color-text);\n",
       "  /* unfitted */\n",
       "  background-color: var(--sklearn-color-unfitted-level-0);\n",
       "}\n",
       "\n",
       "#sk-container-id-2 div.sk-toggleable__content.fitted pre {\n",
       "  /* unfitted */\n",
       "  background-color: var(--sklearn-color-fitted-level-0);\n",
       "}\n",
       "\n",
       "#sk-container-id-2 input.sk-toggleable__control:checked~div.sk-toggleable__content {\n",
       "  /* Expand drop-down */\n",
       "  max-height: 200px;\n",
       "  max-width: 100%;\n",
       "  overflow: auto;\n",
       "}\n",
       "\n",
       "#sk-container-id-2 input.sk-toggleable__control:checked~label.sk-toggleable__label-arrow:before {\n",
       "  content: \"▾\";\n",
       "}\n",
       "\n",
       "/* Pipeline/ColumnTransformer-specific style */\n",
       "\n",
       "#sk-container-id-2 div.sk-label input.sk-toggleable__control:checked~label.sk-toggleable__label {\n",
       "  color: var(--sklearn-color-text);\n",
       "  background-color: var(--sklearn-color-unfitted-level-2);\n",
       "}\n",
       "\n",
       "#sk-container-id-2 div.sk-label.fitted input.sk-toggleable__control:checked~label.sk-toggleable__label {\n",
       "  background-color: var(--sklearn-color-fitted-level-2);\n",
       "}\n",
       "\n",
       "/* Estimator-specific style */\n",
       "\n",
       "/* Colorize estimator box */\n",
       "#sk-container-id-2 div.sk-estimator input.sk-toggleable__control:checked~label.sk-toggleable__label {\n",
       "  /* unfitted */\n",
       "  background-color: var(--sklearn-color-unfitted-level-2);\n",
       "}\n",
       "\n",
       "#sk-container-id-2 div.sk-estimator.fitted input.sk-toggleable__control:checked~label.sk-toggleable__label {\n",
       "  /* fitted */\n",
       "  background-color: var(--sklearn-color-fitted-level-2);\n",
       "}\n",
       "\n",
       "#sk-container-id-2 div.sk-label label.sk-toggleable__label,\n",
       "#sk-container-id-2 div.sk-label label {\n",
       "  /* The background is the default theme color */\n",
       "  color: var(--sklearn-color-text-on-default-background);\n",
       "}\n",
       "\n",
       "/* On hover, darken the color of the background */\n",
       "#sk-container-id-2 div.sk-label:hover label.sk-toggleable__label {\n",
       "  color: var(--sklearn-color-text);\n",
       "  background-color: var(--sklearn-color-unfitted-level-2);\n",
       "}\n",
       "\n",
       "/* Label box, darken color on hover, fitted */\n",
       "#sk-container-id-2 div.sk-label.fitted:hover label.sk-toggleable__label.fitted {\n",
       "  color: var(--sklearn-color-text);\n",
       "  background-color: var(--sklearn-color-fitted-level-2);\n",
       "}\n",
       "\n",
       "/* Estimator label */\n",
       "\n",
       "#sk-container-id-2 div.sk-label label {\n",
       "  font-family: monospace;\n",
       "  font-weight: bold;\n",
       "  display: inline-block;\n",
       "  line-height: 1.2em;\n",
       "}\n",
       "\n",
       "#sk-container-id-2 div.sk-label-container {\n",
       "  text-align: center;\n",
       "}\n",
       "\n",
       "/* Estimator-specific */\n",
       "#sk-container-id-2 div.sk-estimator {\n",
       "  font-family: monospace;\n",
       "  border: 1px dotted var(--sklearn-color-border-box);\n",
       "  border-radius: 0.25em;\n",
       "  box-sizing: border-box;\n",
       "  margin-bottom: 0.5em;\n",
       "  /* unfitted */\n",
       "  background-color: var(--sklearn-color-unfitted-level-0);\n",
       "}\n",
       "\n",
       "#sk-container-id-2 div.sk-estimator.fitted {\n",
       "  /* fitted */\n",
       "  background-color: var(--sklearn-color-fitted-level-0);\n",
       "}\n",
       "\n",
       "/* on hover */\n",
       "#sk-container-id-2 div.sk-estimator:hover {\n",
       "  /* unfitted */\n",
       "  background-color: var(--sklearn-color-unfitted-level-2);\n",
       "}\n",
       "\n",
       "#sk-container-id-2 div.sk-estimator.fitted:hover {\n",
       "  /* fitted */\n",
       "  background-color: var(--sklearn-color-fitted-level-2);\n",
       "}\n",
       "\n",
       "/* Specification for estimator info (e.g. \"i\" and \"?\") */\n",
       "\n",
       "/* Common style for \"i\" and \"?\" */\n",
       "\n",
       ".sk-estimator-doc-link,\n",
       "a:link.sk-estimator-doc-link,\n",
       "a:visited.sk-estimator-doc-link {\n",
       "  float: right;\n",
       "  font-size: smaller;\n",
       "  line-height: 1em;\n",
       "  font-family: monospace;\n",
       "  background-color: var(--sklearn-color-background);\n",
       "  border-radius: 1em;\n",
       "  height: 1em;\n",
       "  width: 1em;\n",
       "  text-decoration: none !important;\n",
       "  margin-left: 1ex;\n",
       "  /* unfitted */\n",
       "  border: var(--sklearn-color-unfitted-level-1) 1pt solid;\n",
       "  color: var(--sklearn-color-unfitted-level-1);\n",
       "}\n",
       "\n",
       ".sk-estimator-doc-link.fitted,\n",
       "a:link.sk-estimator-doc-link.fitted,\n",
       "a:visited.sk-estimator-doc-link.fitted {\n",
       "  /* fitted */\n",
       "  border: var(--sklearn-color-fitted-level-1) 1pt solid;\n",
       "  color: var(--sklearn-color-fitted-level-1);\n",
       "}\n",
       "\n",
       "/* On hover */\n",
       "div.sk-estimator:hover .sk-estimator-doc-link:hover,\n",
       ".sk-estimator-doc-link:hover,\n",
       "div.sk-label-container:hover .sk-estimator-doc-link:hover,\n",
       ".sk-estimator-doc-link:hover {\n",
       "  /* unfitted */\n",
       "  background-color: var(--sklearn-color-unfitted-level-3);\n",
       "  color: var(--sklearn-color-background);\n",
       "  text-decoration: none;\n",
       "}\n",
       "\n",
       "div.sk-estimator.fitted:hover .sk-estimator-doc-link.fitted:hover,\n",
       ".sk-estimator-doc-link.fitted:hover,\n",
       "div.sk-label-container:hover .sk-estimator-doc-link.fitted:hover,\n",
       ".sk-estimator-doc-link.fitted:hover {\n",
       "  /* fitted */\n",
       "  background-color: var(--sklearn-color-fitted-level-3);\n",
       "  color: var(--sklearn-color-background);\n",
       "  text-decoration: none;\n",
       "}\n",
       "\n",
       "/* Span, style for the box shown on hovering the info icon */\n",
       ".sk-estimator-doc-link span {\n",
       "  display: none;\n",
       "  z-index: 9999;\n",
       "  position: relative;\n",
       "  font-weight: normal;\n",
       "  right: .2ex;\n",
       "  padding: .5ex;\n",
       "  margin: .5ex;\n",
       "  width: min-content;\n",
       "  min-width: 20ex;\n",
       "  max-width: 50ex;\n",
       "  color: var(--sklearn-color-text);\n",
       "  box-shadow: 2pt 2pt 4pt #999;\n",
       "  /* unfitted */\n",
       "  background: var(--sklearn-color-unfitted-level-0);\n",
       "  border: .5pt solid var(--sklearn-color-unfitted-level-3);\n",
       "}\n",
       "\n",
       ".sk-estimator-doc-link.fitted span {\n",
       "  /* fitted */\n",
       "  background: var(--sklearn-color-fitted-level-0);\n",
       "  border: var(--sklearn-color-fitted-level-3);\n",
       "}\n",
       "\n",
       ".sk-estimator-doc-link:hover span {\n",
       "  display: block;\n",
       "}\n",
       "\n",
       "/* \"?\"-specific style due to the `<a>` HTML tag */\n",
       "\n",
       "#sk-container-id-2 a.estimator_doc_link {\n",
       "  float: right;\n",
       "  font-size: 1rem;\n",
       "  line-height: 1em;\n",
       "  font-family: monospace;\n",
       "  background-color: var(--sklearn-color-background);\n",
       "  border-radius: 1rem;\n",
       "  height: 1rem;\n",
       "  width: 1rem;\n",
       "  text-decoration: none;\n",
       "  /* unfitted */\n",
       "  color: var(--sklearn-color-unfitted-level-1);\n",
       "  border: var(--sklearn-color-unfitted-level-1) 1pt solid;\n",
       "}\n",
       "\n",
       "#sk-container-id-2 a.estimator_doc_link.fitted {\n",
       "  /* fitted */\n",
       "  border: var(--sklearn-color-fitted-level-1) 1pt solid;\n",
       "  color: var(--sklearn-color-fitted-level-1);\n",
       "}\n",
       "\n",
       "/* On hover */\n",
       "#sk-container-id-2 a.estimator_doc_link:hover {\n",
       "  /* unfitted */\n",
       "  background-color: var(--sklearn-color-unfitted-level-3);\n",
       "  color: var(--sklearn-color-background);\n",
       "  text-decoration: none;\n",
       "}\n",
       "\n",
       "#sk-container-id-2 a.estimator_doc_link.fitted:hover {\n",
       "  /* fitted */\n",
       "  background-color: var(--sklearn-color-fitted-level-3);\n",
       "}\n",
       "</style><div id=\"sk-container-id-2\" class=\"sk-top-container\"><div class=\"sk-text-repr-fallback\"><pre>Ridge()</pre><b>In a Jupyter environment, please rerun this cell to show the HTML representation or trust the notebook. <br />On GitHub, the HTML representation is unable to render, please try loading this page with nbviewer.org.</b></div><div class=\"sk-container\" hidden><div class=\"sk-item\"><div class=\"sk-estimator fitted sk-toggleable\"><input class=\"sk-toggleable__control sk-hidden--visually\" id=\"sk-estimator-id-2\" type=\"checkbox\" checked><label for=\"sk-estimator-id-2\" class=\"sk-toggleable__label fitted sk-toggleable__label-arrow fitted\">&nbsp;&nbsp;Ridge<a class=\"sk-estimator-doc-link fitted\" rel=\"noreferrer\" target=\"_blank\" href=\"https://scikit-learn.org/1.5/modules/generated/sklearn.linear_model.Ridge.html\">?<span>Documentation for Ridge</span></a><span class=\"sk-estimator-doc-link fitted\">i<span>Fitted</span></span></label><div class=\"sk-toggleable__content fitted\"><pre>Ridge()</pre></div> </div></div></div></div>"
      ],
      "text/plain": [
       "Ridge()"
      ]
     },
     "execution_count": 69,
     "metadata": {},
     "output_type": "execute_result"
    }
   ],
   "source": [
    "ridge"
   ]
  },
  {
   "cell_type": "code",
   "execution_count": 70,
   "id": "7bd68c64-667d-4022-a931-97de51e40513",
   "metadata": {},
   "outputs": [],
   "source": [
    "import pickle\n",
    "\n",
    "pickle.dump(sc , open('scaler.pkl' , 'wb'))\n",
    "pickle.dump(ridge , open('ridge.pkl' , 'wb'))"
   ]
  },
  {
   "cell_type": "code",
   "execution_count": null,
   "id": "6d695e8b-13e4-4af7-b614-725f4a5535cb",
   "metadata": {},
   "outputs": [],
   "source": []
  }
 ],
 "metadata": {
  "kernelspec": {
   "display_name": "Python 3 (ipykernel)",
   "language": "python",
   "name": "python3"
  },
  "language_info": {
   "codemirror_mode": {
    "name": "ipython",
    "version": 3
   },
   "file_extension": ".py",
   "mimetype": "text/x-python",
   "name": "python",
   "nbconvert_exporter": "python",
   "pygments_lexer": "ipython3",
   "version": "3.10.0"
  },
  "widgets": {
   "application/vnd.jupyter.widget-state+json": {
    "state": {},
    "version_major": 2,
    "version_minor": 0
   }
  }
 },
 "nbformat": 4,
 "nbformat_minor": 5
}
