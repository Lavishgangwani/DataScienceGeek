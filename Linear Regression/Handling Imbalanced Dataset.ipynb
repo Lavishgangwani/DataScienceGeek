{
 "cells": [
  {
   "cell_type": "code",
   "execution_count": 1,
   "id": "237451a4-8e3f-4a78-aeb1-1f81c1fde4b4",
   "metadata": {},
   "outputs": [
    {
     "data": {
      "text/plain": [
       "'G:\\\\GeekDS\\\\venv\\\\python.exe'"
      ]
     },
     "execution_count": 1,
     "metadata": {},
     "output_type": "execute_result"
    }
   ],
   "source": [
    "import sys\n",
    "sys.executable"
   ]
  },
  {
   "cell_type": "code",
   "execution_count": 3,
   "id": "511784ea-9505-4599-a64c-786004240bef",
   "metadata": {},
   "outputs": [],
   "source": [
    "#importing neccessary libraries\n",
    "import numpy as np\n",
    "import pandas as pd\n",
    "\n",
    "np.random.seed(123)"
   ]
  },
  {
   "cell_type": "code",
   "execution_count": 4,
   "id": "ba3cfbd6-cc88-4506-931c-81fbbd615102",
   "metadata": {},
   "outputs": [],
   "source": [
    "#creating a imbalance dataset\n",
    "n_samples = 1000\n",
    "n_class_ratio = 0.9 #900 & 100\n",
    "n_class_0 = int(n_samples * n_class_ratio)\n",
    "n_class_1 = n_samples - n_class_0"
   ]
  },
  {
   "cell_type": "code",
   "execution_count": 6,
   "id": "3fa7d351-3a34-4d45-8c87-0a07a30bf8e4",
   "metadata": {},
   "outputs": [
    {
     "data": {
      "text/plain": [
       "(900, 100)"
      ]
     },
     "execution_count": 6,
     "metadata": {},
     "output_type": "execute_result"
    }
   ],
   "source": [
    "#created a imbalance dataset\n",
    "n_class_0 , n_class_1"
   ]
  },
  {
   "cell_type": "code",
   "execution_count": 10,
   "id": "fbeb4451-0dc5-46ec-8447-75b69e87e5de",
   "metadata": {},
   "outputs": [],
   "source": [
    "#create a dataframe\n",
    "\n",
    "class_0 = pd.DataFrame({\n",
    "    'feature_1': np.random.normal(loc=0, scale=1, size=n_class_0),\n",
    "    'feature_2': np.random.normal(loc=0, scale=1, size=n_class_0),\n",
    "    'target': [0] * n_class_0\n",
    "})\n",
    "\n",
    "class_1 = pd.DataFrame({\n",
    "    'feature_1': np.random.normal(loc=2, scale=1, size=n_class_1),\n",
    "    'feature_2': np.random.normal(loc=2, scale=1, size=n_class_1),\n",
    "    'target': [1] * n_class_1\n",
    "})"
   ]
  },
  {
   "cell_type": "code",
   "execution_count": 13,
   "id": "1aa7069c-436e-4668-8ba1-7cc4283b1be6",
   "metadata": {},
   "outputs": [],
   "source": [
    "imbalance_df = pd.concat([class_0,class_1]).reset_index(drop=True)"
   ]
  },
  {
   "cell_type": "code",
   "execution_count": 15,
   "id": "f8c7be24-58ad-4551-b08f-296ea60faedd",
   "metadata": {},
   "outputs": [
    {
     "data": {
      "text/html": [
       "<div>\n",
       "<style scoped>\n",
       "    .dataframe tbody tr th:only-of-type {\n",
       "        vertical-align: middle;\n",
       "    }\n",
       "\n",
       "    .dataframe tbody tr th {\n",
       "        vertical-align: top;\n",
       "    }\n",
       "\n",
       "    .dataframe thead th {\n",
       "        text-align: right;\n",
       "    }\n",
       "</style>\n",
       "<table border=\"1\" class=\"dataframe\">\n",
       "  <thead>\n",
       "    <tr style=\"text-align: right;\">\n",
       "      <th></th>\n",
       "      <th>feature_1</th>\n",
       "      <th>feature_2</th>\n",
       "      <th>target</th>\n",
       "    </tr>\n",
       "  </thead>\n",
       "  <tbody>\n",
       "    <tr>\n",
       "      <th>0</th>\n",
       "      <td>0.226907</td>\n",
       "      <td>-0.525923</td>\n",
       "      <td>0</td>\n",
       "    </tr>\n",
       "    <tr>\n",
       "      <th>1</th>\n",
       "      <td>-2.398554</td>\n",
       "      <td>0.229579</td>\n",
       "      <td>0</td>\n",
       "    </tr>\n",
       "    <tr>\n",
       "      <th>2</th>\n",
       "      <td>-0.447858</td>\n",
       "      <td>-0.560087</td>\n",
       "      <td>0</td>\n",
       "    </tr>\n",
       "    <tr>\n",
       "      <th>3</th>\n",
       "      <td>0.197384</td>\n",
       "      <td>1.115389</td>\n",
       "      <td>0</td>\n",
       "    </tr>\n",
       "    <tr>\n",
       "      <th>4</th>\n",
       "      <td>0.627365</td>\n",
       "      <td>0.698765</td>\n",
       "      <td>0</td>\n",
       "    </tr>\n",
       "  </tbody>\n",
       "</table>\n",
       "</div>"
      ],
      "text/plain": [
       "   feature_1  feature_2  target\n",
       "0   0.226907  -0.525923       0\n",
       "1  -2.398554   0.229579       0\n",
       "2  -0.447858  -0.560087       0\n",
       "3   0.197384   1.115389       0\n",
       "4   0.627365   0.698765       0"
      ]
     },
     "execution_count": 15,
     "metadata": {},
     "output_type": "execute_result"
    }
   ],
   "source": [
    "imbalance_df.head()"
   ]
  },
  {
   "cell_type": "code",
   "execution_count": 16,
   "id": "7bb506ce-0350-4402-a0e2-c9e87213c82a",
   "metadata": {},
   "outputs": [
    {
     "data": {
      "text/plain": [
       "target\n",
       "0    900\n",
       "1    100\n",
       "Name: count, dtype: int64"
      ]
     },
     "execution_count": 16,
     "metadata": {},
     "output_type": "execute_result"
    }
   ],
   "source": [
    "imbalance_df.target.value_counts()"
   ]
  },
  {
   "cell_type": "markdown",
   "id": "18a9970c-6f3e-4619-90dc-9f3028cde815",
   "metadata": {},
   "source": [
    "### see imbalance dataset"
   ]
  },
  {
   "cell_type": "markdown",
   "id": "30eef6fb-c204-463d-ba6d-b108aea4f483",
   "metadata": {},
   "source": [
    "## NOW THERE ARE TWO TECHNIQUES TO HANDLE IMBALANCE DATASET:\n",
    "- 1. UP SAMPLING \n",
    "- 2. DOWN SAMPLING"
   ]
  },
  {
   "cell_type": "markdown",
   "id": "a22719b0-a2a5-4528-9665-3fec4051031d",
   "metadata": {},
   "source": [
    "## UPSAMPLING"
   ]
  },
  {
   "cell_type": "code",
   "execution_count": 17,
   "id": "73178261-c51b-4584-9bcf-5b9900256cd1",
   "metadata": {},
   "outputs": [],
   "source": [
    "from sklearn.utils import resample"
   ]
  },
  {
   "cell_type": "code",
   "execution_count": 18,
   "id": "589b5250-db5e-4379-aaa3-bdea9538a7f4",
   "metadata": {},
   "outputs": [],
   "source": [
    "df_minority = imbalance_df[imbalance_df['target']==1]\n",
    "df_majority = imbalance_df[imbalance_df['target']==0]"
   ]
  },
  {
   "cell_type": "code",
   "execution_count": 19,
   "id": "d5c1077b-2e67-454a-bffe-79519d6b0253",
   "metadata": {},
   "outputs": [
    {
     "data": {
      "text/plain": [
       "((900, 3), (100, 3))"
      ]
     },
     "execution_count": 19,
     "metadata": {},
     "output_type": "execute_result"
    }
   ],
   "source": [
    "df_majority.shape , df_minority.shape"
   ]
  },
  {
   "cell_type": "code",
   "execution_count": 20,
   "id": "25e40a8b-65c0-4392-8402-0f133f7264a7",
   "metadata": {},
   "outputs": [],
   "source": [
    "df_minority_upsampled_ds =resample(df_minority , replace=True,\n",
    "                                  n_samples=len(df_majority),\n",
    "                                  random_state=23)"
   ]
  },
  {
   "cell_type": "code",
   "execution_count": 21,
   "id": "3b027f0b-ca7e-453a-93d6-73b427420546",
   "metadata": {},
   "outputs": [
    {
     "data": {
      "text/plain": [
       "(900, 3)"
      ]
     },
     "execution_count": 21,
     "metadata": {},
     "output_type": "execute_result"
    }
   ],
   "source": [
    "df_minority_upsampled_ds.shape"
   ]
  },
  {
   "cell_type": "code",
   "execution_count": 22,
   "id": "a892263f-7066-4a0f-95b3-2e8e1f536662",
   "metadata": {},
   "outputs": [],
   "source": [
    "df_upsampled = pd.concat([df_majority,df_minority_upsampled_ds])"
   ]
  },
  {
   "cell_type": "code",
   "execution_count": 24,
   "id": "70436b6f-a31e-40a7-9631-c0bf1849813d",
   "metadata": {},
   "outputs": [
    {
     "data": {
      "text/plain": [
       "target\n",
       "0    900\n",
       "1    900\n",
       "Name: count, dtype: int64"
      ]
     },
     "execution_count": 24,
     "metadata": {},
     "output_type": "execute_result"
    }
   ],
   "source": [
    "df_upsampled['target'].value_counts()"
   ]
  },
  {
   "cell_type": "markdown",
   "id": "ef1ea4b3-80e2-49e5-83fa-b1a344ca2174",
   "metadata": {},
   "source": [
    "## DownSampling"
   ]
  },
  {
   "cell_type": "code",
   "execution_count": 25,
   "id": "e98d6061-37ae-4637-866e-ab8fa1b7114c",
   "metadata": {},
   "outputs": [
    {
     "name": "stdout",
     "output_type": "stream",
     "text": [
      "target\n",
      "0    900\n",
      "1    100\n",
      "Name: count, dtype: int64\n"
     ]
    }
   ],
   "source": [
    "import pandas as pd\n",
    "\n",
    "# Set the random seed for reproducibility\n",
    "np.random.seed(123)\n",
    "\n",
    "# Create a dataframe with two classes\n",
    "n_samples = 1000\n",
    "class_0_ratio = 0.9\n",
    "n_class_0 = int(n_samples * class_0_ratio)\n",
    "n_class_1 = n_samples - n_class_0\n",
    "\n",
    "class_0 = pd.DataFrame({\n",
    "    'feature_1': np.random.normal(loc=0, scale=1, size=n_class_0),\n",
    "    'feature_2': np.random.normal(loc=0, scale=1, size=n_class_0),\n",
    "    'target': [0] * n_class_0\n",
    "})\n",
    "\n",
    "class_1 = pd.DataFrame({\n",
    "    'feature_1': np.random.normal(loc=2, scale=1, size=n_class_1),\n",
    "    'feature_2': np.random.normal(loc=2, scale=1, size=n_class_1),\n",
    "    'target': [1] * n_class_1\n",
    "})\n",
    "\n",
    "df = pd.concat([class_0, class_1]).reset_index(drop=True)\n",
    "\n",
    "# Check the class distribution\n",
    "print(df['target'].value_counts())"
   ]
  },
  {
   "cell_type": "code",
   "execution_count": 26,
   "id": "3a50f19e-6222-4cd0-9af0-8d78f696763a",
   "metadata": {},
   "outputs": [],
   "source": [
    "df_minority = df[df['target']==1]\n",
    "df_majority = df[df['target']==0]"
   ]
  },
  {
   "cell_type": "code",
   "execution_count": 27,
   "id": "17fc5a23-c52c-46e7-95c2-340053484cd1",
   "metadata": {},
   "outputs": [],
   "source": [
    "df_majority_upsampled_ds =resample(df_majority , replace=True,\n",
    "                                  n_samples=len(df_minority),\n",
    "                                  random_state=23)"
   ]
  },
  {
   "cell_type": "code",
   "execution_count": 28,
   "id": "f3a77baa-c98a-416f-85d4-d0dcd8c4e07d",
   "metadata": {},
   "outputs": [
    {
     "data": {
      "text/plain": [
       "(100, 3)"
      ]
     },
     "execution_count": 28,
     "metadata": {},
     "output_type": "execute_result"
    }
   ],
   "source": [
    "df_majority_upsampled_ds.shape"
   ]
  },
  {
   "cell_type": "code",
   "execution_count": 29,
   "id": "7a0e0e91-99a3-422b-a74e-374f9badf287",
   "metadata": {},
   "outputs": [],
   "source": [
    "df_downsampled = pd.concat([df_minority,df_majority_upsampled_ds])"
   ]
  },
  {
   "cell_type": "code",
   "execution_count": 30,
   "id": "93c7a40d-b1a3-411f-b45f-89cee9da9330",
   "metadata": {},
   "outputs": [
    {
     "data": {
      "text/plain": [
       "target\n",
       "1    100\n",
       "0    100\n",
       "Name: count, dtype: int64"
      ]
     },
     "execution_count": 30,
     "metadata": {},
     "output_type": "execute_result"
    }
   ],
   "source": [
    "df_downsampled['target'].value_counts()"
   ]
  },
  {
   "cell_type": "code",
   "execution_count": null,
   "id": "0688a069-31db-4611-95a2-4d4936e86461",
   "metadata": {},
   "outputs": [],
   "source": []
  }
 ],
 "metadata": {
  "kernelspec": {
   "display_name": "Python 3 (ipykernel)",
   "language": "python",
   "name": "python3"
  },
  "language_info": {
   "codemirror_mode": {
    "name": "ipython",
    "version": 3
   },
   "file_extension": ".py",
   "mimetype": "text/x-python",
   "name": "python",
   "nbconvert_exporter": "python",
   "pygments_lexer": "ipython3",
   "version": "3.10.0"
  },
  "widgets": {
   "application/vnd.jupyter.widget-state+json": {
    "state": {},
    "version_major": 2,
    "version_minor": 0
   }
  }
 },
 "nbformat": 4,
 "nbformat_minor": 5
}
