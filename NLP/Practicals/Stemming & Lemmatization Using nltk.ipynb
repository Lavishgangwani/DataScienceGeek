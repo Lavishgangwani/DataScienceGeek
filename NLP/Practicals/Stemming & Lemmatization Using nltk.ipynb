{
 "cells": [
  {
   "cell_type": "code",
   "execution_count": 1,
   "id": "b912eadd-7e94-4c24-b15c-79e75d3a6fc3",
   "metadata": {},
   "outputs": [
    {
     "name": "stdout",
     "output_type": "stream",
     "text": [
      "G:\\GeekDS\\venv\\python.exe\n",
      "G:\\GeekDS\\venv\n"
     ]
    }
   ],
   "source": [
    "import sys\n",
    "print(sys.executable)\n",
    "print(sys.prefix)"
   ]
  },
  {
   "cell_type": "code",
   "execution_count": 2,
   "id": "dae5c67f-9473-4c55-8c12-5db47aa5fd73",
   "metadata": {},
   "outputs": [],
   "source": [
    "import pandas as pd\n",
    "import numpy as np\n",
    "import nltk"
   ]
  },
  {
   "cell_type": "markdown",
   "id": "e92f9c94-62cd-4553-8094-ed43fda09380",
   "metadata": {},
   "source": [
    "# Stemming\n",
    "\n",
    "- Stemming is the process of reducing a word to its word stem that affixes to suffixes and prefixes or to the roots of words known as a lemma. Stemming is important in natural language understanding (NLU) and natural language processing (NLP)."
   ]
  },
  {
   "cell_type": "code",
   "execution_count": 3,
   "id": "3ac6c68f-f893-4870-9408-894865bc1120",
   "metadata": {},
   "outputs": [],
   "source": [
    "words=[\"eating\",\"eats\",\"eaten\",\"writing\",\"writes\",\"programming\",\"programs\",\"history\",\"finally\",\"finalized\"]"
   ]
  },
  {
   "cell_type": "code",
   "execution_count": 4,
   "id": "3595f878-09b6-4f80-bc0c-6e7b63dc070d",
   "metadata": {},
   "outputs": [],
   "source": [
    "#importing several stemmers from nltk.stem library\n",
    "from nltk.stem import PorterStemmer,SnowballStemmer,LancasterStemmer,RegexpStemmer"
   ]
  },
  {
   "cell_type": "code",
   "execution_count": 8,
   "id": "c820f505-d2a8-4674-8160-8061789e0fb5",
   "metadata": {},
   "outputs": [],
   "source": [
    "port_stem = PorterStemmer()\n",
    "snowball_stem = SnowballStemmer(language='english')\n",
    "lanc_stem = LancasterStemmer()\n",
    "regex_stem = RegexpStemmer(regexp='ing$|s$|e$|able$')"
   ]
  },
  {
   "cell_type": "code",
   "execution_count": 12,
   "id": "67ad2186-3b77-483e-8ecf-d9d31d1da17f",
   "metadata": {},
   "outputs": [
    {
     "name": "stdout",
     "output_type": "stream",
     "text": [
      "PORTER STEMMER\n",
      "eating---->eat\n",
      "--------------------------------------------------\n",
      "SNOWBALL STEMMER\n",
      "eating---->eat\n",
      "--------------------------------------------------\n",
      "LANCASTER STEMMER\n",
      "eating---->eat\n",
      "--------------------------------------------------\n",
      "RegeX STEMMER\n",
      "eating---->eat\n",
      "****************************************************************************************************\n",
      "PORTER STEMMER\n",
      "eats---->eat\n",
      "--------------------------------------------------\n",
      "SNOWBALL STEMMER\n",
      "eats---->eat\n",
      "--------------------------------------------------\n",
      "LANCASTER STEMMER\n",
      "eats---->eat\n",
      "--------------------------------------------------\n",
      "RegeX STEMMER\n",
      "eats---->eat\n",
      "****************************************************************************************************\n",
      "PORTER STEMMER\n",
      "eaten---->eaten\n",
      "--------------------------------------------------\n",
      "SNOWBALL STEMMER\n",
      "eaten---->eaten\n",
      "--------------------------------------------------\n",
      "LANCASTER STEMMER\n",
      "eaten---->eat\n",
      "--------------------------------------------------\n",
      "RegeX STEMMER\n",
      "eaten---->eaten\n",
      "****************************************************************************************************\n",
      "PORTER STEMMER\n",
      "writing---->write\n",
      "--------------------------------------------------\n",
      "SNOWBALL STEMMER\n",
      "writing---->write\n",
      "--------------------------------------------------\n",
      "LANCASTER STEMMER\n",
      "writing---->writ\n",
      "--------------------------------------------------\n",
      "RegeX STEMMER\n",
      "writing---->writ\n",
      "****************************************************************************************************\n",
      "PORTER STEMMER\n",
      "writes---->write\n",
      "--------------------------------------------------\n",
      "SNOWBALL STEMMER\n",
      "writes---->write\n",
      "--------------------------------------------------\n",
      "LANCASTER STEMMER\n",
      "writes---->writ\n",
      "--------------------------------------------------\n",
      "RegeX STEMMER\n",
      "writes---->write\n",
      "****************************************************************************************************\n",
      "PORTER STEMMER\n",
      "programming---->program\n",
      "--------------------------------------------------\n",
      "SNOWBALL STEMMER\n",
      "programming---->program\n",
      "--------------------------------------------------\n",
      "LANCASTER STEMMER\n",
      "programming---->program\n",
      "--------------------------------------------------\n",
      "RegeX STEMMER\n",
      "programming---->programm\n",
      "****************************************************************************************************\n",
      "PORTER STEMMER\n",
      "programs---->program\n",
      "--------------------------------------------------\n",
      "SNOWBALL STEMMER\n",
      "programs---->program\n",
      "--------------------------------------------------\n",
      "LANCASTER STEMMER\n",
      "programs---->program\n",
      "--------------------------------------------------\n",
      "RegeX STEMMER\n",
      "programs---->program\n",
      "****************************************************************************************************\n",
      "PORTER STEMMER\n",
      "history---->histori\n",
      "--------------------------------------------------\n",
      "SNOWBALL STEMMER\n",
      "history---->histori\n",
      "--------------------------------------------------\n",
      "LANCASTER STEMMER\n",
      "history---->hist\n",
      "--------------------------------------------------\n",
      "RegeX STEMMER\n",
      "history---->history\n",
      "****************************************************************************************************\n",
      "PORTER STEMMER\n",
      "finally---->final\n",
      "--------------------------------------------------\n",
      "SNOWBALL STEMMER\n",
      "finally---->final\n",
      "--------------------------------------------------\n",
      "LANCASTER STEMMER\n",
      "finally---->fin\n",
      "--------------------------------------------------\n",
      "RegeX STEMMER\n",
      "finally---->finally\n",
      "****************************************************************************************************\n",
      "PORTER STEMMER\n",
      "finalized---->final\n",
      "--------------------------------------------------\n",
      "SNOWBALL STEMMER\n",
      "finalized---->final\n",
      "--------------------------------------------------\n",
      "LANCASTER STEMMER\n",
      "finalized---->fin\n",
      "--------------------------------------------------\n",
      "RegeX STEMMER\n",
      "finalized---->finalized\n",
      "****************************************************************************************************\n"
     ]
    }
   ],
   "source": [
    "def stemmers(words):\n",
    "\n",
    "    for word in words:\n",
    "        print(\"PORTER STEMMER\")\n",
    "        print(word + \"---->\" + port_stem.stem(word))\n",
    "        print(\"-----\"*10)\n",
    "        print(\"SNOWBALL STEMMER\")\n",
    "        print(word + \"---->\" + snowball_stem.stem(word))\n",
    "        print(\"-----\"*10)\n",
    "        print(\"LANCASTER STEMMER\")\n",
    "        print(word + \"---->\" + lanc_stem.stem(word))\n",
    "        print(\"-----\"*10)\n",
    "        print(\"RegeX STEMMER\")\n",
    "        print(word + \"---->\" + regex_stem.stem(word))\n",
    "        print(\"*****\"*20)\n",
    "\n",
    "stemmers(words)"
   ]
  },
  {
   "cell_type": "markdown",
   "id": "481e5021-1459-40d7-a0a8-e7b67db4ed6a",
   "metadata": {},
   "source": [
    "# Lemmatization\n",
    "\n",
    "- Lemmatization technique is like stemming. The output we will get after lemmatization is called ‘lemma’, which is a root word rather than root stem, the output of stemming. After lemmatization, we will be getting a valid word that means the same thing.\n",
    "\n",
    "## Wordnet Lemmatizer\n",
    "\n",
    "- NLTK provides WordNetLemmatizer class which is a thin wrapper around the wordnet corpus. This class uses morphy() function to the WordNet CorpusReader class to find a lemma. Let us understand it with an example −"
   ]
  },
  {
   "cell_type": "code",
   "execution_count": 18,
   "id": "13bad6e6-7f27-43d5-b74e-a13fec157e3c",
   "metadata": {},
   "outputs": [
    {
     "name": "stderr",
     "output_type": "stream",
     "text": [
      "[nltk_data] Downloading package wordnet to\n",
      "[nltk_data]     C:\\Users\\hp\\AppData\\Roaming\\nltk_data...\n"
     ]
    },
    {
     "data": {
      "text/plain": [
       "True"
      ]
     },
     "execution_count": 18,
     "metadata": {},
     "output_type": "execute_result"
    }
   ],
   "source": [
    "from nltk.stem import WordNetLemmatizer\n",
    "nltk.download('wordnet')"
   ]
  },
  {
   "cell_type": "code",
   "execution_count": 19,
   "id": "39b5c3bc-5f39-4071-87e4-ffa295ec08c3",
   "metadata": {},
   "outputs": [],
   "source": [
    "wordnet_lemma = WordNetLemmatizer()"
   ]
  },
  {
   "cell_type": "code",
   "execution_count": 20,
   "id": "a75a36e1-c00b-4143-ae38-6b7f42cafce9",
   "metadata": {},
   "outputs": [
    {
     "name": "stdout",
     "output_type": "stream",
     "text": [
      "['eating', 'eats', 'eaten', 'writing', 'writes', 'programming', 'programs', 'history', 'finally', 'finalized']\n"
     ]
    }
   ],
   "source": [
    "print(words)"
   ]
  },
  {
   "cell_type": "code",
   "execution_count": 23,
   "id": "b9e0dd6e-4873-48ab-b01c-44a929742f39",
   "metadata": {},
   "outputs": [
    {
     "name": "stdout",
     "output_type": "stream",
     "text": [
      "\n",
      "POS- Noun-n\n",
      "verb-v\n",
      "adjective-a\n",
      "adverb-r\n",
      "\n"
     ]
    }
   ],
   "source": [
    "print('''\n",
    "POS- Noun-n\n",
    "verb-v\n",
    "adjective-a\n",
    "adverb-r\n",
    "''')"
   ]
  },
  {
   "cell_type": "code",
   "execution_count": 25,
   "id": "a0f7da6b-fbb8-42a5-86a6-e2a5adf8e899",
   "metadata": {},
   "outputs": [
    {
     "name": "stdout",
     "output_type": "stream",
     "text": [
      "eating---->eat\n",
      "eats---->eat\n",
      "eaten---->eat\n",
      "writing---->write\n",
      "writes---->write\n",
      "programming---->program\n",
      "programs---->program\n",
      "history---->history\n",
      "finally---->finally\n",
      "finalized---->finalize\n"
     ]
    }
   ],
   "source": [
    "for word in words:\n",
    "    print(word + \"---->\" + wordnet_lemma.lemmatize(word,pos='v'))"
   ]
  },
  {
   "cell_type": "code",
   "execution_count": 27,
   "id": "20e9abd0-1730-4d13-aa45-4db66341feff",
   "metadata": {},
   "outputs": [
    {
     "data": {
      "text/plain": [
       "'go'"
      ]
     },
     "execution_count": 27,
     "metadata": {},
     "output_type": "execute_result"
    }
   ],
   "source": [
    "wordnet_lemma.lemmatize(\"going\",pos=\"v\")"
   ]
  },
  {
   "cell_type": "code",
   "execution_count": 43,
   "id": "6e2dea72-13ae-4bbd-83d6-9b704fcb18ad",
   "metadata": {},
   "outputs": [
    {
     "data": {
      "text/plain": [
       "'handle'"
      ]
     },
     "execution_count": 43,
     "metadata": {},
     "output_type": "execute_result"
    }
   ],
   "source": [
    "wordnet_lemma.lemmatize(\"handling\", pos='v')"
   ]
  },
  {
   "cell_type": "code",
   "execution_count": null,
   "id": "bf7a781b-7f16-4509-b120-3ef4dc922060",
   "metadata": {},
   "outputs": [],
   "source": []
  }
 ],
 "metadata": {
  "kernelspec": {
   "display_name": "Python 3 (ipykernel)",
   "language": "python",
   "name": "python3"
  },
  "language_info": {
   "codemirror_mode": {
    "name": "ipython",
    "version": 3
   },
   "file_extension": ".py",
   "mimetype": "text/x-python",
   "name": "python",
   "nbconvert_exporter": "python",
   "pygments_lexer": "ipython3",
   "version": "3.10.0"
  },
  "widgets": {
   "application/vnd.jupyter.widget-state+json": {
    "state": {},
    "version_major": 2,
    "version_minor": 0
   }
  }
 },
 "nbformat": 4,
 "nbformat_minor": 5
}
